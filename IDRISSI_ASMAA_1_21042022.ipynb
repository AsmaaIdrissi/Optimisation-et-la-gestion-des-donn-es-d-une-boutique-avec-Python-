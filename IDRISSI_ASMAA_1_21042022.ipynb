{
 "cells": [
  {
   "cell_type": "markdown",
   "id": "2fc77a60",
   "metadata": {
    "slideshow": {
     "slide_type": "slide"
    }
   },
   "source": [
    "# Analyse des ventes de l'entreprise «LaPage»"
   ]
  },
  {
   "cell_type": "markdown",
   "id": "cef827e1",
   "metadata": {
    "slideshow": {
     "slide_type": "fragment"
    }
   },
   "source": [
    "##  Rappel du contexte\n",
    "Je suis Data Analyst chez la grande chaîne de librairie \"LaPage\", qui s'est d'abord développée dans une grande ville de France, avec plusieurs magasins, jusqu'à décider d'ouvrir une boutique en ligne. Son approche de la vente de livres en ligne, basée sur des algorithmes de recommandation, lui a valu un franc succès !\n",
    "\n",
    "**objectif**\n",
    "On souhaite aujourd'hui faire le point après deux ans d’exercice, et pouvoir analyser les points forts, les points faibles, les comportements clients, etc. Voyons plus en détail l'approche Business de l'exploitation…"
   ]
  },
  {
   "cell_type": "code",
   "execution_count": 1,
   "id": "4dce96b3",
   "metadata": {
    "slideshow": {
     "slide_type": "skip"
    }
   },
   "outputs": [],
   "source": [
    "#Import des librairies Python\n",
    "import pandas as pd\n",
    "import numpy as np\n",
    "import matplotlib.pyplot as plt\n",
    "import seaborn as sns\n",
    "import scipy.stats as st\n",
    "import math as mth"
   ]
  },
  {
   "cell_type": "code",
   "execution_count": 2,
   "id": "c67be6e8",
   "metadata": {
    "slideshow": {
     "slide_type": "skip"
    }
   },
   "outputs": [],
   "source": [
    "#Paramètres graphiques\n",
    "plt.style.use('ggplot')\n",
    "plt.rcParams['figure.figsize'] = [14, 7]\n",
    "plt.rcParams['font.size'] = 16"
   ]
  },
  {
   "cell_type": "code",
   "execution_count": 3,
   "id": "0a09eff1",
   "metadata": {
    "slideshow": {
     "slide_type": "skip"
    }
   },
   "outputs": [],
   "source": [
    "#Import des fichiers csv extraits directement de la base de données de l’entreprise\n",
    "df_transactions = pd.read_csv('transactions.csv') #les ventes (appelées “Transactions”)\n",
    "df_products = pd.read_csv('products.csv') #la liste des produits\n",
    "df_customers = pd.read_csv('customers.csv') #la liste des clients"
   ]
  },
  {
   "cell_type": "markdown",
   "id": "ae7060d2",
   "metadata": {
    "slideshow": {
     "slide_type": "slide"
    }
   },
   "source": [
    "# Mission 1 : nettoyage des données"
   ]
  },
  {
   "cell_type": "code",
   "execution_count": 4,
   "id": "41bdb6bb",
   "metadata": {
    "slideshow": {
     "slide_type": "slide"
    }
   },
   "outputs": [
    {
     "name": "stdout",
     "output_type": "stream",
     "text": [
      "<class 'pandas.core.frame.DataFrame'>\n",
      "RangeIndex: 3287 entries, 0 to 3286\n",
      "Data columns (total 3 columns):\n",
      " #   Column   Non-Null Count  Dtype  \n",
      "---  ------   --------------  -----  \n",
      " 0   id_prod  3287 non-null   object \n",
      " 1   price    3287 non-null   float64\n",
      " 2   categ    3287 non-null   int64  \n",
      "dtypes: float64(1), int64(1), object(1)\n",
      "memory usage: 77.2+ KB\n",
      "None\n"
     ]
    }
   ],
   "source": [
    "#Visualisation rapide de nos 3 dataframes\n",
    "print(df_products.info())\n"
   ]
  },
  {
   "cell_type": "code",
   "execution_count": 5,
   "id": "aeabdb12",
   "metadata": {
    "slideshow": {
     "slide_type": "subslide"
    }
   },
   "outputs": [
    {
     "name": "stdout",
     "output_type": "stream",
     "text": [
      "<class 'pandas.core.frame.DataFrame'>\n",
      "RangeIndex: 8623 entries, 0 to 8622\n",
      "Data columns (total 3 columns):\n",
      " #   Column     Non-Null Count  Dtype \n",
      "---  ------     --------------  ----- \n",
      " 0   client_id  8623 non-null   object\n",
      " 1   sex        8623 non-null   object\n",
      " 2   birth      8623 non-null   int64 \n",
      "dtypes: int64(1), object(2)\n",
      "memory usage: 202.2+ KB\n",
      "None\n"
     ]
    }
   ],
   "source": [
    "print(df_customers.info())\n"
   ]
  },
  {
   "cell_type": "code",
   "execution_count": 6,
   "id": "79e1c1ec",
   "metadata": {
    "slideshow": {
     "slide_type": "subslide"
    }
   },
   "outputs": [
    {
     "name": "stdout",
     "output_type": "stream",
     "text": [
      "<class 'pandas.core.frame.DataFrame'>\n",
      "RangeIndex: 679532 entries, 0 to 679531\n",
      "Data columns (total 4 columns):\n",
      " #   Column      Non-Null Count   Dtype \n",
      "---  ------      --------------   ----- \n",
      " 0   id_prod     679532 non-null  object\n",
      " 1   date        679532 non-null  object\n",
      " 2   session_id  679532 non-null  object\n",
      " 3   client_id   679532 non-null  object\n",
      "dtypes: object(4)\n",
      "memory usage: 20.7+ MB\n",
      "None\n"
     ]
    }
   ],
   "source": [
    "\n",
    "print(df_transactions.info())"
   ]
  },
  {
   "cell_type": "markdown",
   "id": "39e3bdb0",
   "metadata": {
    "slideshow": {
     "slide_type": "slide"
    }
   },
   "source": [
    "## Traitement des valeurs manquantes"
   ]
  },
  {
   "cell_type": "code",
   "execution_count": 7,
   "id": "93b654bd",
   "metadata": {
    "slideshow": {
     "slide_type": "fragment"
    }
   },
   "outputs": [
    {
     "data": {
      "text/plain": [
       "id_prod    False\n",
       "price      False\n",
       "categ      False\n",
       "dtype: bool"
      ]
     },
     "execution_count": 7,
     "metadata": {},
     "output_type": "execute_result"
    }
   ],
   "source": [
    "#Méthode .isnull() (ou .isna())sur les données produits, renvoi de booléens par colonne\n",
    "df_products.isnull().any()"
   ]
  },
  {
   "cell_type": "markdown",
   "id": "acf20121",
   "metadata": {
    "slideshow": {
     "slide_type": "fragment"
    }
   },
   "source": [
    "Aucune valeur manquante dans df_products."
   ]
  },
  {
   "cell_type": "code",
   "execution_count": 8,
   "id": "3539dbfd",
   "metadata": {
    "slideshow": {
     "slide_type": "subslide"
    }
   },
   "outputs": [
    {
     "data": {
      "text/plain": [
       "client_id    False\n",
       "sex          False\n",
       "birth        False\n",
       "dtype: bool"
      ]
     },
     "execution_count": 8,
     "metadata": {},
     "output_type": "execute_result"
    }
   ],
   "source": [
    "#Méthode .isnull() sur les données clients, renvoi de booléens par colonne\n",
    "df_customers.isnull().any()"
   ]
  },
  {
   "cell_type": "markdown",
   "id": "7f75b608",
   "metadata": {
    "slideshow": {
     "slide_type": "fragment"
    }
   },
   "source": [
    "Aucune valeur manquante dans df_customers."
   ]
  },
  {
   "cell_type": "code",
   "execution_count": 9,
   "id": "8e05ba32",
   "metadata": {
    "slideshow": {
     "slide_type": "subslide"
    }
   },
   "outputs": [
    {
     "data": {
      "text/plain": [
       "id_prod       False\n",
       "date          False\n",
       "session_id    False\n",
       "client_id     False\n",
       "dtype: bool"
      ]
     },
     "execution_count": 9,
     "metadata": {},
     "output_type": "execute_result"
    }
   ],
   "source": [
    "#Méthode .isnull() sur les données transactions, renvoi de booléens par colonne\n",
    "df_transactions.isnull().any()"
   ]
  },
  {
   "cell_type": "markdown",
   "id": "d592baf4",
   "metadata": {
    "slideshow": {
     "slide_type": "fragment"
    }
   },
   "source": [
    "Aucune valeur manquante dans df_transactions.\n",
    "mais est ce qu'il y'en a des valeurs atypiques ou aberrantes?!"
   ]
  },
  {
   "cell_type": "markdown",
   "id": "68533d91",
   "metadata": {
    "slideshow": {
     "slide_type": "slide"
    }
   },
   "source": [
    "## Traitement des valeurs aberrantes et atypiques\n",
    "Par valeur aberrante, on s'attend à identifier des valeurs vraisemblablement fausses, et pour les valeurs atypiques elles restent possibles, pas forcément fausses."
   ]
  },
  {
   "cell_type": "markdown",
   "id": "728aade0",
   "metadata": {
    "slideshow": {
     "slide_type": "subslide"
    }
   },
   "source": [
    "### Analyse et correction éventuelle du dataframe df_products :"
   ]
  },
  {
   "cell_type": "code",
   "execution_count": 10,
   "id": "f5ec31eb",
   "metadata": {
    "slideshow": {
     "slide_type": "fragment"
    }
   },
   "outputs": [
    {
     "data": {
      "text/html": [
       "<div>\n",
       "<style scoped>\n",
       "    .dataframe tbody tr th:only-of-type {\n",
       "        vertical-align: middle;\n",
       "    }\n",
       "\n",
       "    .dataframe tbody tr th {\n",
       "        vertical-align: top;\n",
       "    }\n",
       "\n",
       "    .dataframe thead th {\n",
       "        text-align: right;\n",
       "    }\n",
       "</style>\n",
       "<table border=\"1\" class=\"dataframe\">\n",
       "  <thead>\n",
       "    <tr style=\"text-align: right;\">\n",
       "      <th></th>\n",
       "      <th>id_prod</th>\n",
       "      <th>price</th>\n",
       "      <th>categ</th>\n",
       "    </tr>\n",
       "  </thead>\n",
       "  <tbody>\n",
       "    <tr>\n",
       "      <th>731</th>\n",
       "      <td>T_0</td>\n",
       "      <td>-1.00</td>\n",
       "      <td>0</td>\n",
       "    </tr>\n",
       "    <tr>\n",
       "      <th>3188</th>\n",
       "      <td>2_99</td>\n",
       "      <td>84.99</td>\n",
       "      <td>2</td>\n",
       "    </tr>\n",
       "    <tr>\n",
       "      <th>3088</th>\n",
       "      <td>2_98</td>\n",
       "      <td>149.74</td>\n",
       "      <td>2</td>\n",
       "    </tr>\n",
       "    <tr>\n",
       "      <th>2698</th>\n",
       "      <td>2_97</td>\n",
       "      <td>160.99</td>\n",
       "      <td>2</td>\n",
       "    </tr>\n",
       "    <tr>\n",
       "      <th>2576</th>\n",
       "      <td>2_96</td>\n",
       "      <td>47.91</td>\n",
       "      <td>2</td>\n",
       "    </tr>\n",
       "  </tbody>\n",
       "</table>\n",
       "</div>"
      ],
      "text/plain": [
       "     id_prod   price  categ\n",
       "731      T_0   -1.00      0\n",
       "3188    2_99   84.99      2\n",
       "3088    2_98  149.74      2\n",
       "2698    2_97  160.99      2\n",
       "2576    2_96   47.91      2"
      ]
     },
     "execution_count": 10,
     "metadata": {},
     "output_type": "execute_result"
    }
   ],
   "source": [
    "#Tri rapide sur les 5 premières lignes du dataframe df_product (méthode .sort_values())\n",
    "df_products.sort_values('id_prod', ascending = False).head()"
   ]
  },
  {
   "cell_type": "code",
   "execution_count": 11,
   "id": "68ebb3e0",
   "metadata": {
    "slideshow": {
     "slide_type": "skip"
    }
   },
   "outputs": [
    {
     "data": {
      "text/html": [
       "<div>\n",
       "<style scoped>\n",
       "    .dataframe tbody tr th:only-of-type {\n",
       "        vertical-align: middle;\n",
       "    }\n",
       "\n",
       "    .dataframe tbody tr th {\n",
       "        vertical-align: top;\n",
       "    }\n",
       "\n",
       "    .dataframe thead th {\n",
       "        text-align: right;\n",
       "    }\n",
       "</style>\n",
       "<table border=\"1\" class=\"dataframe\">\n",
       "  <thead>\n",
       "    <tr style=\"text-align: right;\">\n",
       "      <th></th>\n",
       "      <th>id_prod</th>\n",
       "      <th>price</th>\n",
       "      <th>categ</th>\n",
       "    </tr>\n",
       "  </thead>\n",
       "  <tbody>\n",
       "    <tr>\n",
       "      <th>922</th>\n",
       "      <td>0_1000</td>\n",
       "      <td>6.84</td>\n",
       "      <td>0</td>\n",
       "    </tr>\n",
       "    <tr>\n",
       "      <th>663</th>\n",
       "      <td>0_100</td>\n",
       "      <td>20.60</td>\n",
       "      <td>0</td>\n",
       "    </tr>\n",
       "    <tr>\n",
       "      <th>2691</th>\n",
       "      <td>0_10</td>\n",
       "      <td>17.95</td>\n",
       "      <td>0</td>\n",
       "    </tr>\n",
       "    <tr>\n",
       "      <th>803</th>\n",
       "      <td>0_1</td>\n",
       "      <td>10.99</td>\n",
       "      <td>0</td>\n",
       "    </tr>\n",
       "    <tr>\n",
       "      <th>1001</th>\n",
       "      <td>0_0</td>\n",
       "      <td>3.75</td>\n",
       "      <td>0</td>\n",
       "    </tr>\n",
       "  </tbody>\n",
       "</table>\n",
       "</div>"
      ],
      "text/plain": [
       "     id_prod  price  categ\n",
       "922   0_1000   6.84      0\n",
       "663    0_100  20.60      0\n",
       "2691    0_10  17.95      0\n",
       "803      0_1  10.99      0\n",
       "1001     0_0   3.75      0"
      ]
     },
     "execution_count": 11,
     "metadata": {},
     "output_type": "execute_result"
    }
   ],
   "source": [
    "#Tri rapide sur les 5 dernières lignes du dataframe df_products\n",
    "df_products.sort_values('id_prod', ascending = False).tail()"
   ]
  },
  {
   "cell_type": "markdown",
   "id": "63f3b08e",
   "metadata": {
    "slideshow": {
     "slide_type": "skip"
    }
   },
   "source": [
    "Ligne index 731 id_prod T_0 et price ne sont pas acceptables (valeur test négative)."
   ]
  },
  {
   "cell_type": "code",
   "execution_count": 12,
   "id": "98d2bd30",
   "metadata": {
    "slideshow": {
     "slide_type": "fragment"
    }
   },
   "outputs": [
    {
     "data": {
      "text/html": [
       "<div>\n",
       "<style scoped>\n",
       "    .dataframe tbody tr th:only-of-type {\n",
       "        vertical-align: middle;\n",
       "    }\n",
       "\n",
       "    .dataframe tbody tr th {\n",
       "        vertical-align: top;\n",
       "    }\n",
       "\n",
       "    .dataframe thead th {\n",
       "        text-align: right;\n",
       "    }\n",
       "</style>\n",
       "<table border=\"1\" class=\"dataframe\">\n",
       "  <thead>\n",
       "    <tr style=\"text-align: right;\">\n",
       "      <th></th>\n",
       "      <th>id_prod</th>\n",
       "      <th>price</th>\n",
       "      <th>categ</th>\n",
       "    </tr>\n",
       "  </thead>\n",
       "  <tbody>\n",
       "    <tr>\n",
       "      <th>731</th>\n",
       "      <td>T_0</td>\n",
       "      <td>-1.0</td>\n",
       "      <td>0</td>\n",
       "    </tr>\n",
       "  </tbody>\n",
       "</table>\n",
       "</div>"
      ],
      "text/plain": [
       "    id_prod  price  categ\n",
       "731     T_0   -1.0      0"
      ]
     },
     "execution_count": 12,
     "metadata": {},
     "output_type": "execute_result"
    }
   ],
   "source": [
    "#Vérification par restriction des valeurs négatives (ou nulles) dans df_products\n",
    "df_products[df_products.price <= 0]"
   ]
  },
  {
   "cell_type": "markdown",
   "id": "5cefa63f",
   "metadata": {
    "slideshow": {
     "slide_type": "fragment"
    }
   },
   "source": [
    "La liste des produits vendus recense une seule valeur négative (- 1€) très certainement liée à une transaction de test."
   ]
  },
  {
   "cell_type": "code",
   "execution_count": 13,
   "id": "37dfa60e",
   "metadata": {
    "slideshow": {
     "slide_type": "subslide"
    }
   },
   "outputs": [
    {
     "data": {
      "text/html": [
       "<div>\n",
       "<style scoped>\n",
       "    .dataframe tbody tr th:only-of-type {\n",
       "        vertical-align: middle;\n",
       "    }\n",
       "\n",
       "    .dataframe tbody tr th {\n",
       "        vertical-align: top;\n",
       "    }\n",
       "\n",
       "    .dataframe thead th {\n",
       "        text-align: right;\n",
       "    }\n",
       "</style>\n",
       "<table border=\"1\" class=\"dataframe\">\n",
       "  <thead>\n",
       "    <tr style=\"text-align: right;\">\n",
       "      <th></th>\n",
       "      <th>id_prod</th>\n",
       "      <th>price</th>\n",
       "      <th>categ</th>\n",
       "    </tr>\n",
       "  </thead>\n",
       "  <tbody>\n",
       "    <tr>\n",
       "      <th>731</th>\n",
       "      <td>T_0</td>\n",
       "      <td>-1.0</td>\n",
       "      <td>0</td>\n",
       "    </tr>\n",
       "  </tbody>\n",
       "</table>\n",
       "</div>"
      ],
      "text/plain": [
       "    id_prod  price  categ\n",
       "731     T_0   -1.0      0"
      ]
     },
     "execution_count": 13,
     "metadata": {},
     "output_type": "execute_result"
    }
   ],
   "source": [
    "values_tests=df_products[df_products['id_prod'].str.contains(\"T\")]\n",
    "values_tests"
   ]
  },
  {
   "cell_type": "code",
   "execution_count": 14,
   "id": "ae237fb0",
   "metadata": {
    "slideshow": {
     "slide_type": "fragment"
    }
   },
   "outputs": [],
   "source": [
    "#Suppression de la ligne index 731, la valeur n'a aucune signification logique\n",
    "df_products = df_products[df_products.id_prod != 'T_0']"
   ]
  },
  {
   "cell_type": "code",
   "execution_count": 15,
   "id": "de47672e",
   "metadata": {
    "slideshow": {
     "slide_type": "subslide"
    }
   },
   "outputs": [
    {
     "data": {
      "text/plain": [
       "count    3286.000000\n",
       "mean       21.863597\n",
       "std        29.849786\n",
       "min         0.620000\n",
       "25%         6.990000\n",
       "50%        13.075000\n",
       "75%        22.990000\n",
       "max       300.000000\n",
       "Name: price, dtype: float64"
      ]
     },
     "execution_count": 15,
     "metadata": {},
     "output_type": "execute_result"
    }
   ],
   "source": [
    "df_products['price'].describe()"
   ]
  },
  {
   "cell_type": "markdown",
   "id": "f6827016",
   "metadata": {
    "slideshow": {
     "slide_type": "fragment"
    }
   },
   "source": [
    "Aucune anomalie sur les prix min. et max., les prix produits en queue de distribution sont plausibles."
   ]
  },
  {
   "cell_type": "markdown",
   "id": "acc80f10",
   "metadata": {
    "slideshow": {
     "slide_type": "slide"
    }
   },
   "source": [
    "### Analyse et correction éventuelle du dataframe *df_customers* :"
   ]
  },
  {
   "cell_type": "code",
   "execution_count": 16,
   "id": "09354b53",
   "metadata": {
    "scrolled": true,
    "slideshow": {
     "slide_type": "subslide"
    }
   },
   "outputs": [
    {
     "data": {
      "text/html": [
       "<div>\n",
       "<style scoped>\n",
       "    .dataframe tbody tr th:only-of-type {\n",
       "        vertical-align: middle;\n",
       "    }\n",
       "\n",
       "    .dataframe tbody tr th {\n",
       "        vertical-align: top;\n",
       "    }\n",
       "\n",
       "    .dataframe thead th {\n",
       "        text-align: right;\n",
       "    }\n",
       "</style>\n",
       "<table border=\"1\" class=\"dataframe\">\n",
       "  <thead>\n",
       "    <tr style=\"text-align: right;\">\n",
       "      <th></th>\n",
       "      <th>client_id</th>\n",
       "      <th>sex</th>\n",
       "      <th>birth</th>\n",
       "    </tr>\n",
       "  </thead>\n",
       "  <tbody>\n",
       "    <tr>\n",
       "      <th>8494</th>\n",
       "      <td>ct_1</td>\n",
       "      <td>m</td>\n",
       "      <td>2001</td>\n",
       "    </tr>\n",
       "    <tr>\n",
       "      <th>2735</th>\n",
       "      <td>ct_0</td>\n",
       "      <td>f</td>\n",
       "      <td>2001</td>\n",
       "    </tr>\n",
       "    <tr>\n",
       "      <th>7358</th>\n",
       "      <td>c_999</td>\n",
       "      <td>m</td>\n",
       "      <td>1964</td>\n",
       "    </tr>\n",
       "    <tr>\n",
       "      <th>2145</th>\n",
       "      <td>c_998</td>\n",
       "      <td>m</td>\n",
       "      <td>2001</td>\n",
       "    </tr>\n",
       "    <tr>\n",
       "      <th>94</th>\n",
       "      <td>c_997</td>\n",
       "      <td>f</td>\n",
       "      <td>1994</td>\n",
       "    </tr>\n",
       "  </tbody>\n",
       "</table>\n",
       "</div>"
      ],
      "text/plain": [
       "     client_id sex  birth\n",
       "8494      ct_1   m   2001\n",
       "2735      ct_0   f   2001\n",
       "7358     c_999   m   1964\n",
       "2145     c_998   m   2001\n",
       "94       c_997   f   1994"
      ]
     },
     "execution_count": 16,
     "metadata": {},
     "output_type": "execute_result"
    }
   ],
   "source": [
    "#Tri rapide sur les 5 premières lignes du dataframe df_customers (méthode .sort_values())\n",
    "df_customers.sort_values('client_id', ascending = False).head()"
   ]
  },
  {
   "cell_type": "code",
   "execution_count": 17,
   "id": "24ba23de",
   "metadata": {
    "scrolled": true,
    "slideshow": {
     "slide_type": "skip"
    }
   },
   "outputs": [
    {
     "data": {
      "text/html": [
       "<div>\n",
       "<style scoped>\n",
       "    .dataframe tbody tr th:only-of-type {\n",
       "        vertical-align: middle;\n",
       "    }\n",
       "\n",
       "    .dataframe tbody tr th {\n",
       "        vertical-align: top;\n",
       "    }\n",
       "\n",
       "    .dataframe thead th {\n",
       "        text-align: right;\n",
       "    }\n",
       "</style>\n",
       "<table border=\"1\" class=\"dataframe\">\n",
       "  <thead>\n",
       "    <tr style=\"text-align: right;\">\n",
       "      <th></th>\n",
       "      <th>client_id</th>\n",
       "      <th>sex</th>\n",
       "      <th>birth</th>\n",
       "    </tr>\n",
       "  </thead>\n",
       "  <tbody>\n",
       "    <tr>\n",
       "      <th>3426</th>\n",
       "      <td>c_1001</td>\n",
       "      <td>m</td>\n",
       "      <td>1982</td>\n",
       "    </tr>\n",
       "    <tr>\n",
       "      <th>8472</th>\n",
       "      <td>c_1000</td>\n",
       "      <td>f</td>\n",
       "      <td>1966</td>\n",
       "    </tr>\n",
       "    <tr>\n",
       "      <th>2137</th>\n",
       "      <td>c_100</td>\n",
       "      <td>m</td>\n",
       "      <td>1992</td>\n",
       "    </tr>\n",
       "    <tr>\n",
       "      <th>6894</th>\n",
       "      <td>c_10</td>\n",
       "      <td>m</td>\n",
       "      <td>1956</td>\n",
       "    </tr>\n",
       "    <tr>\n",
       "      <th>4299</th>\n",
       "      <td>c_1</td>\n",
       "      <td>m</td>\n",
       "      <td>1955</td>\n",
       "    </tr>\n",
       "  </tbody>\n",
       "</table>\n",
       "</div>"
      ],
      "text/plain": [
       "     client_id sex  birth\n",
       "3426    c_1001   m   1982\n",
       "8472    c_1000   f   1966\n",
       "2137     c_100   m   1992\n",
       "6894      c_10   m   1956\n",
       "4299       c_1   m   1955"
      ]
     },
     "execution_count": 17,
     "metadata": {},
     "output_type": "execute_result"
    }
   ],
   "source": [
    "#Tri rapide sur les 5 dernières lignes du dataframe df_customers\n",
    "df_customers.sort_values('client_id', ascending = False).tail()"
   ]
  },
  {
   "cell_type": "code",
   "execution_count": 18,
   "id": "a670fb5a",
   "metadata": {
    "slideshow": {
     "slide_type": "fragment"
    }
   },
   "outputs": [
    {
     "data": {
      "text/html": [
       "<div>\n",
       "<style scoped>\n",
       "    .dataframe tbody tr th:only-of-type {\n",
       "        vertical-align: middle;\n",
       "    }\n",
       "\n",
       "    .dataframe tbody tr th {\n",
       "        vertical-align: top;\n",
       "    }\n",
       "\n",
       "    .dataframe thead th {\n",
       "        text-align: right;\n",
       "    }\n",
       "</style>\n",
       "<table border=\"1\" class=\"dataframe\">\n",
       "  <thead>\n",
       "    <tr style=\"text-align: right;\">\n",
       "      <th></th>\n",
       "      <th>client_id</th>\n",
       "      <th>sex</th>\n",
       "      <th>birth</th>\n",
       "    </tr>\n",
       "  </thead>\n",
       "  <tbody>\n",
       "    <tr>\n",
       "      <th>2735</th>\n",
       "      <td>ct_0</td>\n",
       "      <td>f</td>\n",
       "      <td>2001</td>\n",
       "    </tr>\n",
       "    <tr>\n",
       "      <th>8494</th>\n",
       "      <td>ct_1</td>\n",
       "      <td>m</td>\n",
       "      <td>2001</td>\n",
       "    </tr>\n",
       "  </tbody>\n",
       "</table>\n",
       "</div>"
      ],
      "text/plain": [
       "     client_id sex  birth\n",
       "2735      ct_0   f   2001\n",
       "8494      ct_1   m   2001"
      ]
     },
     "execution_count": 18,
     "metadata": {},
     "output_type": "execute_result"
    }
   ],
   "source": [
    "values_tests=df_customers[df_customers['client_id'].str.contains(\"ct\")]\n",
    "values_tests"
   ]
  },
  {
   "cell_type": "markdown",
   "id": "6fa35e0f",
   "metadata": {
    "slideshow": {
     "slide_type": "fragment"
    }
   },
   "source": [
    "client_id, ct_1 et ct_2 semblent ne pas avoir la même forme d'écriture, le \"ct\" ressemble à un identifiant de test."
   ]
  },
  {
   "cell_type": "code",
   "execution_count": 19,
   "id": "ab537744",
   "metadata": {
    "slideshow": {
     "slide_type": "subslide"
    }
   },
   "outputs": [],
   "source": [
    "#Suppression des deux lignes client_id ct_1 et ct_2\n",
    "df_customers = df_customers[(df_customers.client_id != 'ct_0') & (df_customers.client_id != 'ct_1')]"
   ]
  },
  {
   "cell_type": "code",
   "execution_count": 20,
   "id": "d460fbf8",
   "metadata": {
    "slideshow": {
     "slide_type": "slide"
    }
   },
   "outputs": [
    {
     "name": "stdout",
     "output_type": "stream",
     "text": [
      "     client_id sex  birth\n",
      "7078    c_8245   f   2004\n",
      "6330    c_2854   m   2004\n",
      "445     c_2627   m   2004\n",
      "1787    c_7916   f   2004\n",
      "2947     c_308   f   2004\n",
      "     client_id sex  birth\n",
      "4569     c_577   m   1929\n",
      "2491    c_8362   f   1929\n",
      "418     c_5302   m   1929\n",
      "1086    c_3218   f   1930\n",
      "5138    c_7232   f   1930\n"
     ]
    }
   ],
   "source": [
    "#Vérification rapide de la cohérence des âges clients\n",
    "print(df_customers.sort_values(by='birth', ascending=False).head())\n",
    "print(df_customers.sort_values(by='birth', ascending=True).head())"
   ]
  },
  {
   "cell_type": "markdown",
   "id": "72a6f4ef",
   "metadata": {
    "slideshow": {
     "slide_type": "fragment"
    }
   },
   "source": [
    "*Les plus jeunes clients ont 18 ans, les plus âgés 93 ans. Aucune anomalie.*"
   ]
  },
  {
   "cell_type": "code",
   "execution_count": 21,
   "id": "c4057330",
   "metadata": {
    "slideshow": {
     "slide_type": "slide"
    }
   },
   "outputs": [
    {
     "data": {
      "text/html": [
       "<div>\n",
       "<style scoped>\n",
       "    .dataframe tbody tr th:only-of-type {\n",
       "        vertical-align: middle;\n",
       "    }\n",
       "\n",
       "    .dataframe tbody tr th {\n",
       "        vertical-align: top;\n",
       "    }\n",
       "\n",
       "    .dataframe thead th {\n",
       "        text-align: right;\n",
       "    }\n",
       "</style>\n",
       "<table border=\"1\" class=\"dataframe\">\n",
       "  <thead>\n",
       "    <tr style=\"text-align: right;\">\n",
       "      <th></th>\n",
       "      <th>client_id</th>\n",
       "      <th>sex</th>\n",
       "      <th>birth</th>\n",
       "    </tr>\n",
       "  </thead>\n",
       "  <tbody>\n",
       "  </tbody>\n",
       "</table>\n",
       "</div>"
      ],
      "text/plain": [
       "Empty DataFrame\n",
       "Columns: [client_id, sex, birth]\n",
       "Index: []"
      ]
     },
     "execution_count": 21,
     "metadata": {},
     "output_type": "execute_result"
    }
   ],
   "source": [
    "df = df_customers[(df_customers.sex != 'f') & (df_customers.sex != 'm')]\n",
    "df"
   ]
  },
  {
   "cell_type": "markdown",
   "id": "66489205",
   "metadata": {
    "slideshow": {
     "slide_type": "fragment"
    }
   },
   "source": [
    "La variable **'sex'** ne prend aucune autre valeur que **'m'** pour monsieur et **'f'** pour femme"
   ]
  },
  {
   "cell_type": "markdown",
   "id": "ecb9c7df",
   "metadata": {
    "slideshow": {
     "slide_type": "slide"
    }
   },
   "source": [
    "### Analyse et correction éventuelle du dataframe *df_transactions* :"
   ]
  },
  {
   "cell_type": "code",
   "execution_count": 22,
   "id": "434e85d7",
   "metadata": {
    "slideshow": {
     "slide_type": "subslide"
    }
   },
   "outputs": [
    {
     "data": {
      "text/html": [
       "<div>\n",
       "<style scoped>\n",
       "    .dataframe tbody tr th:only-of-type {\n",
       "        vertical-align: middle;\n",
       "    }\n",
       "\n",
       "    .dataframe tbody tr th {\n",
       "        vertical-align: top;\n",
       "    }\n",
       "\n",
       "    .dataframe thead th {\n",
       "        text-align: right;\n",
       "    }\n",
       "</style>\n",
       "<table border=\"1\" class=\"dataframe\">\n",
       "  <thead>\n",
       "    <tr style=\"text-align: right;\">\n",
       "      <th></th>\n",
       "      <th>id_prod</th>\n",
       "      <th>date</th>\n",
       "      <th>session_id</th>\n",
       "      <th>client_id</th>\n",
       "    </tr>\n",
       "  </thead>\n",
       "  <tbody>\n",
       "    <tr>\n",
       "      <th>638483</th>\n",
       "      <td>T_0</td>\n",
       "      <td>test_2021-03-01 02:30:02.237444</td>\n",
       "      <td>s_0</td>\n",
       "      <td>ct_1</td>\n",
       "    </tr>\n",
       "    <tr>\n",
       "      <th>589180</th>\n",
       "      <td>T_0</td>\n",
       "      <td>test_2021-03-01 02:30:02.237443</td>\n",
       "      <td>s_0</td>\n",
       "      <td>ct_1</td>\n",
       "    </tr>\n",
       "    <tr>\n",
       "      <th>338563</th>\n",
       "      <td>T_0</td>\n",
       "      <td>test_2021-03-01 02:30:02.237433</td>\n",
       "      <td>s_0</td>\n",
       "      <td>ct_1</td>\n",
       "    </tr>\n",
       "    <tr>\n",
       "      <th>245235</th>\n",
       "      <td>T_0</td>\n",
       "      <td>test_2021-03-01 02:30:02.237415</td>\n",
       "      <td>s_0</td>\n",
       "      <td>ct_1</td>\n",
       "    </tr>\n",
       "    <tr>\n",
       "      <th>525297</th>\n",
       "      <td>T_0</td>\n",
       "      <td>test_2021-03-01 02:30:02.237418</td>\n",
       "      <td>s_0</td>\n",
       "      <td>ct_1</td>\n",
       "    </tr>\n",
       "  </tbody>\n",
       "</table>\n",
       "</div>"
      ],
      "text/plain": [
       "       id_prod                             date session_id client_id\n",
       "638483     T_0  test_2021-03-01 02:30:02.237444        s_0      ct_1\n",
       "589180     T_0  test_2021-03-01 02:30:02.237443        s_0      ct_1\n",
       "338563     T_0  test_2021-03-01 02:30:02.237433        s_0      ct_1\n",
       "245235     T_0  test_2021-03-01 02:30:02.237415        s_0      ct_1\n",
       "525297     T_0  test_2021-03-01 02:30:02.237418        s_0      ct_1"
      ]
     },
     "execution_count": 22,
     "metadata": {},
     "output_type": "execute_result"
    }
   ],
   "source": [
    "#Tri rapide sur les 5 premières lignes du dataframe df_transactions (méthode .sort_values())\n",
    "df_transactions.sort_values('client_id', ascending = False).head()"
   ]
  },
  {
   "cell_type": "code",
   "execution_count": 23,
   "id": "d2e369d3",
   "metadata": {
    "scrolled": true,
    "slideshow": {
     "slide_type": "skip"
    }
   },
   "outputs": [
    {
     "data": {
      "text/html": [
       "<div>\n",
       "<style scoped>\n",
       "    .dataframe tbody tr th:only-of-type {\n",
       "        vertical-align: middle;\n",
       "    }\n",
       "\n",
       "    .dataframe tbody tr th {\n",
       "        vertical-align: top;\n",
       "    }\n",
       "\n",
       "    .dataframe thead th {\n",
       "        text-align: right;\n",
       "    }\n",
       "</style>\n",
       "<table border=\"1\" class=\"dataframe\">\n",
       "  <thead>\n",
       "    <tr style=\"text-align: right;\">\n",
       "      <th></th>\n",
       "      <th>id_prod</th>\n",
       "      <th>date</th>\n",
       "      <th>session_id</th>\n",
       "      <th>client_id</th>\n",
       "    </tr>\n",
       "  </thead>\n",
       "  <tbody>\n",
       "    <tr>\n",
       "      <th>673656</th>\n",
       "      <td>0_2277</td>\n",
       "      <td>2021-09-06 18:34:16.975976</td>\n",
       "      <td>s_85977</td>\n",
       "      <td>c_1</td>\n",
       "    </tr>\n",
       "    <tr>\n",
       "      <th>620939</th>\n",
       "      <td>1_425</td>\n",
       "      <td>2021-12-25 03:53:43.623598</td>\n",
       "      <td>s_139610</td>\n",
       "      <td>c_1</td>\n",
       "    </tr>\n",
       "    <tr>\n",
       "      <th>72185</th>\n",
       "      <td>0_2277</td>\n",
       "      <td>2022-10-06 18:34:16.975976</td>\n",
       "      <td>s_278688</td>\n",
       "      <td>c_1</td>\n",
       "    </tr>\n",
       "    <tr>\n",
       "      <th>488625</th>\n",
       "      <td>0_513</td>\n",
       "      <td>2022-12-21 22:41:38.769525</td>\n",
       "      <td>s_315508</td>\n",
       "      <td>c_1</td>\n",
       "    </tr>\n",
       "    <tr>\n",
       "      <th>318987</th>\n",
       "      <td>0_1880</td>\n",
       "      <td>2021-11-04 18:37:01.482109</td>\n",
       "      <td>s_114737</td>\n",
       "      <td>c_1</td>\n",
       "    </tr>\n",
       "  </tbody>\n",
       "</table>\n",
       "</div>"
      ],
      "text/plain": [
       "       id_prod                        date session_id client_id\n",
       "673656  0_2277  2021-09-06 18:34:16.975976    s_85977       c_1\n",
       "620939   1_425  2021-12-25 03:53:43.623598   s_139610       c_1\n",
       "72185   0_2277  2022-10-06 18:34:16.975976   s_278688       c_1\n",
       "488625   0_513  2022-12-21 22:41:38.769525   s_315508       c_1\n",
       "318987  0_1880  2021-11-04 18:37:01.482109   s_114737       c_1"
      ]
     },
     "execution_count": 23,
     "metadata": {},
     "output_type": "execute_result"
    }
   ],
   "source": [
    "#Tri rapide sur les 5 dernières lignes du dataframe df_transactions\n",
    "df_transactions.sort_values('client_id', ascending = False).tail()"
   ]
  },
  {
   "cell_type": "code",
   "execution_count": 24,
   "id": "35a1fda4",
   "metadata": {
    "slideshow": {
     "slide_type": "skip"
    }
   },
   "outputs": [
    {
     "data": {
      "text/html": [
       "<div>\n",
       "<style scoped>\n",
       "    .dataframe tbody tr th:only-of-type {\n",
       "        vertical-align: middle;\n",
       "    }\n",
       "\n",
       "    .dataframe tbody tr th {\n",
       "        vertical-align: top;\n",
       "    }\n",
       "\n",
       "    .dataframe thead th {\n",
       "        text-align: right;\n",
       "    }\n",
       "</style>\n",
       "<table border=\"1\" class=\"dataframe\">\n",
       "  <thead>\n",
       "    <tr style=\"text-align: right;\">\n",
       "      <th></th>\n",
       "      <th>id_prod</th>\n",
       "      <th>date</th>\n",
       "      <th>session_id</th>\n",
       "      <th>client_id</th>\n",
       "    </tr>\n",
       "  </thead>\n",
       "  <tbody>\n",
       "    <tr>\n",
       "      <th>3019</th>\n",
       "      <td>T_0</td>\n",
       "      <td>test_2021-03-01 02:30:02.237419</td>\n",
       "      <td>s_0</td>\n",
       "      <td>ct_0</td>\n",
       "    </tr>\n",
       "    <tr>\n",
       "      <th>5138</th>\n",
       "      <td>T_0</td>\n",
       "      <td>test_2021-03-01 02:30:02.237425</td>\n",
       "      <td>s_0</td>\n",
       "      <td>ct_0</td>\n",
       "    </tr>\n",
       "    <tr>\n",
       "      <th>9668</th>\n",
       "      <td>T_0</td>\n",
       "      <td>test_2021-03-01 02:30:02.237437</td>\n",
       "      <td>s_0</td>\n",
       "      <td>ct_1</td>\n",
       "    </tr>\n",
       "    <tr>\n",
       "      <th>10728</th>\n",
       "      <td>T_0</td>\n",
       "      <td>test_2021-03-01 02:30:02.237436</td>\n",
       "      <td>s_0</td>\n",
       "      <td>ct_0</td>\n",
       "    </tr>\n",
       "    <tr>\n",
       "      <th>15292</th>\n",
       "      <td>T_0</td>\n",
       "      <td>test_2021-03-01 02:30:02.237430</td>\n",
       "      <td>s_0</td>\n",
       "      <td>ct_0</td>\n",
       "    </tr>\n",
       "    <tr>\n",
       "      <th>...</th>\n",
       "      <td>...</td>\n",
       "      <td>...</td>\n",
       "      <td>...</td>\n",
       "      <td>...</td>\n",
       "    </tr>\n",
       "    <tr>\n",
       "      <th>657830</th>\n",
       "      <td>T_0</td>\n",
       "      <td>test_2021-03-01 02:30:02.237417</td>\n",
       "      <td>s_0</td>\n",
       "      <td>ct_0</td>\n",
       "    </tr>\n",
       "    <tr>\n",
       "      <th>662081</th>\n",
       "      <td>T_0</td>\n",
       "      <td>test_2021-03-01 02:30:02.237427</td>\n",
       "      <td>s_0</td>\n",
       "      <td>ct_1</td>\n",
       "    </tr>\n",
       "    <tr>\n",
       "      <th>670680</th>\n",
       "      <td>T_0</td>\n",
       "      <td>test_2021-03-01 02:30:02.237449</td>\n",
       "      <td>s_0</td>\n",
       "      <td>ct_1</td>\n",
       "    </tr>\n",
       "    <tr>\n",
       "      <th>671647</th>\n",
       "      <td>T_0</td>\n",
       "      <td>test_2021-03-01 02:30:02.237424</td>\n",
       "      <td>s_0</td>\n",
       "      <td>ct_1</td>\n",
       "    </tr>\n",
       "    <tr>\n",
       "      <th>679180</th>\n",
       "      <td>T_0</td>\n",
       "      <td>test_2021-03-01 02:30:02.237425</td>\n",
       "      <td>s_0</td>\n",
       "      <td>ct_1</td>\n",
       "    </tr>\n",
       "  </tbody>\n",
       "</table>\n",
       "<p>200 rows × 4 columns</p>\n",
       "</div>"
      ],
      "text/plain": [
       "       id_prod                             date session_id client_id\n",
       "3019       T_0  test_2021-03-01 02:30:02.237419        s_0      ct_0\n",
       "5138       T_0  test_2021-03-01 02:30:02.237425        s_0      ct_0\n",
       "9668       T_0  test_2021-03-01 02:30:02.237437        s_0      ct_1\n",
       "10728      T_0  test_2021-03-01 02:30:02.237436        s_0      ct_0\n",
       "15292      T_0  test_2021-03-01 02:30:02.237430        s_0      ct_0\n",
       "...        ...                              ...        ...       ...\n",
       "657830     T_0  test_2021-03-01 02:30:02.237417        s_0      ct_0\n",
       "662081     T_0  test_2021-03-01 02:30:02.237427        s_0      ct_1\n",
       "670680     T_0  test_2021-03-01 02:30:02.237449        s_0      ct_1\n",
       "671647     T_0  test_2021-03-01 02:30:02.237424        s_0      ct_1\n",
       "679180     T_0  test_2021-03-01 02:30:02.237425        s_0      ct_1\n",
       "\n",
       "[200 rows x 4 columns]"
      ]
     },
     "execution_count": 24,
     "metadata": {},
     "output_type": "execute_result"
    }
   ],
   "source": [
    "tests=df_transactions[df_transactions['id_prod'].str.contains(\"T\")]\n",
    "tests\n"
   ]
  },
  {
   "cell_type": "markdown",
   "id": "fcf6ecb9",
   "metadata": {
    "slideshow": {
     "slide_type": "fragment"
    }
   },
   "source": [
    "Identification de nouvelles valeurs \"test\".\n",
    "\n",
    "Valeurs directement liées aux client_id ct_1 et ct_2 identifiées précédemment.\n"
   ]
  },
  {
   "cell_type": "code",
   "execution_count": 25,
   "id": "ab7682e1",
   "metadata": {
    "slideshow": {
     "slide_type": "fragment"
    }
   },
   "outputs": [],
   "source": [
    "#Suppression des valeurs test\n",
    "df_transactions = df_transactions[df_transactions.id_prod != 'T_0']"
   ]
  },
  {
   "cell_type": "code",
   "execution_count": 26,
   "id": "d02f4c39",
   "metadata": {
    "scrolled": true,
    "slideshow": {
     "slide_type": "slide"
    }
   },
   "outputs": [
    {
     "data": {
      "text/plain": [
       "id_prod               object\n",
       "date          datetime64[ns]\n",
       "session_id            object\n",
       "client_id             object\n",
       "dtype: object"
      ]
     },
     "execution_count": 26,
     "metadata": {},
     "output_type": "execute_result"
    }
   ],
   "source": [
    "#Conversion des valeurs de la colonne 'date' dans le bon format date (méthode .to_datetime())\n",
    "df_transactions['date'] = pd.to_datetime(df_transactions.date, format='%Y-%m-%d %H:%M:%S', errors = 'coerce')\n",
    "\n",
    "#Vérification du type de données\n",
    "df_transactions.dtypes"
   ]
  },
  {
   "cell_type": "code",
   "execution_count": 27,
   "id": "b3aad52c",
   "metadata": {
    "slideshow": {
     "slide_type": "skip"
    }
   },
   "outputs": [
    {
     "data": {
      "text/plain": [
       "0"
      ]
     },
     "execution_count": 27,
     "metadata": {},
     "output_type": "execute_result"
    }
   ],
   "source": [
    "#L'argument \"errors = 'coerce'\" de la méthode renvoie (NaT) si la conversion n'est pas possible\n",
    "#Vérification des éventuelles valeurs manquantes\n",
    "df_transactions.date.isnull().sum()"
   ]
  },
  {
   "cell_type": "markdown",
   "id": "14b9e4eb",
   "metadata": {
    "slideshow": {
     "slide_type": "slide"
    }
   },
   "source": [
    "## Traitement des éventuels doublons"
   ]
  },
  {
   "cell_type": "code",
   "execution_count": 28,
   "id": "b807f47c",
   "metadata": {
    "slideshow": {
     "slide_type": "subslide"
    }
   },
   "outputs": [
    {
     "name": "stdout",
     "output_type": "stream",
     "text": [
      "0\n",
      "0\n",
      "0\n"
     ]
    }
   ],
   "source": [
    "#Méthode .duplicated() pour identifier la présence de doublons\n",
    "print(df_products.duplicated().sum())\n",
    "print(df_customers.duplicated().sum())\n",
    "print(df_transactions.duplicated().sum())"
   ]
  },
  {
   "cell_type": "markdown",
   "id": "828b7f97",
   "metadata": {
    "slideshow": {
     "slide_type": "fragment"
    }
   },
   "source": [
    "Aucun doublon détecté dans nos 3 dataframes."
   ]
  },
  {
   "cell_type": "code",
   "execution_count": 29,
   "id": "63203f3e",
   "metadata": {
    "scrolled": false,
    "slideshow": {
     "slide_type": "fragment"
    }
   },
   "outputs": [
    {
     "name": "stdout",
     "output_type": "stream",
     "text": [
      "True\n",
      "True\n"
     ]
    }
   ],
   "source": [
    "# vérification de la clé primaire\n",
    "print(df_products['id_prod'].is_unique)\n",
    "print(df_customers['client_id'].is_unique)"
   ]
  },
  {
   "cell_type": "markdown",
   "id": "852fab3b",
   "metadata": {
    "slideshow": {
     "slide_type": "fragment"
    }
   },
   "source": [
    "En conclusion, à ce stade de l'analyse, seules des valeurs dites \"test\" ont été supprimées pour ne pas fausser l'étude. Il n'y a pas vraiment de valeurs atypiques, les prix en queue de distribution restent cohérents, ainsi que les clients les plus âgés."
   ]
  },
  {
   "cell_type": "markdown",
   "id": "0b39d562",
   "metadata": {
    "slideshow": {
     "slide_type": "slide"
    }
   },
   "source": [
    "## Préparation des données transactionnelles produits"
   ]
  },
  {
   "cell_type": "code",
   "execution_count": 30,
   "id": "cc191fe6",
   "metadata": {
    "slideshow": {
     "slide_type": "skip"
    }
   },
   "outputs": [
    {
     "data": {
      "text/plain": [
       "(3286, 3)"
      ]
     },
     "execution_count": 30,
     "metadata": {},
     "output_type": "execute_result"
    }
   ],
   "source": [
    "df_products.shape"
   ]
  },
  {
   "cell_type": "code",
   "execution_count": 31,
   "id": "7288dee7",
   "metadata": {
    "slideshow": {
     "slide_type": "skip"
    }
   },
   "outputs": [
    {
     "data": {
      "text/plain": [
       "(679332, 4)"
      ]
     },
     "execution_count": 31,
     "metadata": {},
     "output_type": "execute_result"
    }
   ],
   "source": [
    "df_transactions.shape"
   ]
  },
  {
   "cell_type": "code",
   "execution_count": 32,
   "id": "b49f2cff",
   "metadata": {
    "scrolled": true,
    "slideshow": {
     "slide_type": "subslide"
    }
   },
   "outputs": [
    {
     "data": {
      "text/html": [
       "<div>\n",
       "<style scoped>\n",
       "    .dataframe tbody tr th:only-of-type {\n",
       "        vertical-align: middle;\n",
       "    }\n",
       "\n",
       "    .dataframe tbody tr th {\n",
       "        vertical-align: top;\n",
       "    }\n",
       "\n",
       "    .dataframe thead th {\n",
       "        text-align: right;\n",
       "    }\n",
       "</style>\n",
       "<table border=\"1\" class=\"dataframe\">\n",
       "  <thead>\n",
       "    <tr style=\"text-align: right;\">\n",
       "      <th></th>\n",
       "      <th>id_prod</th>\n",
       "      <th>date</th>\n",
       "      <th>session_id</th>\n",
       "      <th>client_id</th>\n",
       "      <th>price</th>\n",
       "      <th>categ</th>\n",
       "    </tr>\n",
       "  </thead>\n",
       "  <tbody>\n",
       "    <tr>\n",
       "      <th>0</th>\n",
       "      <td>0_1518</td>\n",
       "      <td>2022-05-20 13:21:29.043970</td>\n",
       "      <td>s_211425</td>\n",
       "      <td>c_103</td>\n",
       "      <td>4.18</td>\n",
       "      <td>0.0</td>\n",
       "    </tr>\n",
       "    <tr>\n",
       "      <th>1</th>\n",
       "      <td>1_251</td>\n",
       "      <td>2022-02-02 07:55:19.149409</td>\n",
       "      <td>s_158752</td>\n",
       "      <td>c_8534</td>\n",
       "      <td>15.99</td>\n",
       "      <td>1.0</td>\n",
       "    </tr>\n",
       "    <tr>\n",
       "      <th>2</th>\n",
       "      <td>0_1277</td>\n",
       "      <td>2022-06-18 15:44:33.155329</td>\n",
       "      <td>s_225667</td>\n",
       "      <td>c_6714</td>\n",
       "      <td>7.99</td>\n",
       "      <td>0.0</td>\n",
       "    </tr>\n",
       "    <tr>\n",
       "      <th>3</th>\n",
       "      <td>2_209</td>\n",
       "      <td>2021-06-24 04:19:29.835891</td>\n",
       "      <td>s_52962</td>\n",
       "      <td>c_6941</td>\n",
       "      <td>69.99</td>\n",
       "      <td>2.0</td>\n",
       "    </tr>\n",
       "    <tr>\n",
       "      <th>4</th>\n",
       "      <td>0_1509</td>\n",
       "      <td>2023-01-11 08:22:08.194479</td>\n",
       "      <td>s_325227</td>\n",
       "      <td>c_4232</td>\n",
       "      <td>4.99</td>\n",
       "      <td>0.0</td>\n",
       "    </tr>\n",
       "  </tbody>\n",
       "</table>\n",
       "</div>"
      ],
      "text/plain": [
       "  id_prod                       date session_id client_id  price  categ\n",
       "0  0_1518 2022-05-20 13:21:29.043970   s_211425     c_103   4.18    0.0\n",
       "1   1_251 2022-02-02 07:55:19.149409   s_158752    c_8534  15.99    1.0\n",
       "2  0_1277 2022-06-18 15:44:33.155329   s_225667    c_6714   7.99    0.0\n",
       "3   2_209 2021-06-24 04:19:29.835891    s_52962    c_6941  69.99    2.0\n",
       "4  0_1509 2023-01-11 08:22:08.194479   s_325227    c_4232   4.99    0.0"
      ]
     },
     "execution_count": 32,
     "metadata": {},
     "output_type": "execute_result"
    }
   ],
   "source": [
    "#Jointure pour agréger les valeurs 'transactions' avec celles 'products' (méthode .merge())\n",
    "df_transactions_products = pd.merge(df_transactions, df_products, on='id_prod', how='left')\n",
    "df_transactions_products.head()"
   ]
  },
  {
   "cell_type": "code",
   "execution_count": 33,
   "id": "a9d72c23",
   "metadata": {
    "slideshow": {
     "slide_type": "skip"
    }
   },
   "outputs": [
    {
     "data": {
      "text/plain": [
       "(679332, 6)"
      ]
     },
     "execution_count": 33,
     "metadata": {},
     "output_type": "execute_result"
    }
   ],
   "source": [
    "df_transactions_products.shape"
   ]
  },
  {
   "cell_type": "code",
   "execution_count": 34,
   "id": "a99226d1",
   "metadata": {
    "scrolled": false,
    "slideshow": {
     "slide_type": "slide"
    }
   },
   "outputs": [
    {
     "data": {
      "text/plain": [
       "id_prod         0\n",
       "date            0\n",
       "session_id      0\n",
       "client_id       0\n",
       "price         221\n",
       "categ         221\n",
       "dtype: int64"
      ]
     },
     "execution_count": 34,
     "metadata": {},
     "output_type": "execute_result"
    }
   ],
   "source": [
    "#Vérification d'éventuelles valeurs manquantes (méthode .isnull())\n",
    "df_transactions_products.isnull().sum()"
   ]
  },
  {
   "cell_type": "markdown",
   "id": "f2f432a8",
   "metadata": {
    "slideshow": {
     "slide_type": "fragment"
    }
   },
   "source": [
    "Aucun id produit manquant, il est intéressant de détecter le ou les produits concernés par les valeurs manquantes\n",
    "Création d'un dataframe ciblant uniquement ces NaN"
   ]
  },
  {
   "cell_type": "code",
   "execution_count": 35,
   "id": "e7501d00",
   "metadata": {
    "slideshow": {
     "slide_type": "fragment"
    }
   },
   "outputs": [],
   "source": [
    "#df_missing_values = df_transactions_products[df_transactions_products.categ.isnull() == True]\n",
    "df_missing_values = df_transactions_products[df_transactions_products.price.isnull() == True]"
   ]
  },
  {
   "cell_type": "code",
   "execution_count": 36,
   "id": "6048db4e",
   "metadata": {
    "slideshow": {
     "slide_type": "fragment"
    }
   },
   "outputs": [
    {
     "data": {
      "text/plain": [
       "array(['0_2245'], dtype=object)"
      ]
     },
     "execution_count": 36,
     "metadata": {},
     "output_type": "execute_result"
    }
   ],
   "source": [
    "#Recherche du ou des produits concernés\n",
    "df_missing_values.id_prod.unique()"
   ]
  },
  {
   "cell_type": "code",
   "execution_count": 37,
   "id": "7905ba1c",
   "metadata": {
    "slideshow": {
     "slide_type": "skip"
    }
   },
   "outputs": [
    {
     "data": {
      "text/html": [
       "<div>\n",
       "<style scoped>\n",
       "    .dataframe tbody tr th:only-of-type {\n",
       "        vertical-align: middle;\n",
       "    }\n",
       "\n",
       "    .dataframe tbody tr th {\n",
       "        vertical-align: top;\n",
       "    }\n",
       "\n",
       "    .dataframe thead th {\n",
       "        text-align: right;\n",
       "    }\n",
       "</style>\n",
       "<table border=\"1\" class=\"dataframe\">\n",
       "  <thead>\n",
       "    <tr style=\"text-align: right;\">\n",
       "      <th></th>\n",
       "      <th>id_prod</th>\n",
       "      <th>date</th>\n",
       "      <th>session_id</th>\n",
       "      <th>client_id</th>\n",
       "      <th>price</th>\n",
       "      <th>categ</th>\n",
       "    </tr>\n",
       "  </thead>\n",
       "  <tbody>\n",
       "    <tr>\n",
       "      <th>2633</th>\n",
       "      <td>0_2245</td>\n",
       "      <td>2022-09-23 07:22:38.636773</td>\n",
       "      <td>s_272266</td>\n",
       "      <td>c_4746</td>\n",
       "      <td>NaN</td>\n",
       "      <td>NaN</td>\n",
       "    </tr>\n",
       "    <tr>\n",
       "      <th>10103</th>\n",
       "      <td>0_2245</td>\n",
       "      <td>2022-07-23 09:24:14.133889</td>\n",
       "      <td>s_242482</td>\n",
       "      <td>c_6713</td>\n",
       "      <td>NaN</td>\n",
       "      <td>NaN</td>\n",
       "    </tr>\n",
       "    <tr>\n",
       "      <th>11723</th>\n",
       "      <td>0_2245</td>\n",
       "      <td>2022-12-03 03:26:35.696673</td>\n",
       "      <td>s_306338</td>\n",
       "      <td>c_5108</td>\n",
       "      <td>NaN</td>\n",
       "      <td>NaN</td>\n",
       "    </tr>\n",
       "    <tr>\n",
       "      <th>15670</th>\n",
       "      <td>0_2245</td>\n",
       "      <td>2021-08-16 11:33:25.481411</td>\n",
       "      <td>s_76493</td>\n",
       "      <td>c_1391</td>\n",
       "      <td>NaN</td>\n",
       "      <td>NaN</td>\n",
       "    </tr>\n",
       "    <tr>\n",
       "      <th>16372</th>\n",
       "      <td>0_2245</td>\n",
       "      <td>2022-07-16 05:53:01.627491</td>\n",
       "      <td>s_239078</td>\n",
       "      <td>c_7954</td>\n",
       "      <td>NaN</td>\n",
       "      <td>NaN</td>\n",
       "    </tr>\n",
       "  </tbody>\n",
       "</table>\n",
       "</div>"
      ],
      "text/plain": [
       "      id_prod                       date session_id client_id  price  categ\n",
       "2633   0_2245 2022-09-23 07:22:38.636773   s_272266    c_4746    NaN    NaN\n",
       "10103  0_2245 2022-07-23 09:24:14.133889   s_242482    c_6713    NaN    NaN\n",
       "11723  0_2245 2022-12-03 03:26:35.696673   s_306338    c_5108    NaN    NaN\n",
       "15670  0_2245 2021-08-16 11:33:25.481411    s_76493    c_1391    NaN    NaN\n",
       "16372  0_2245 2022-07-16 05:53:01.627491   s_239078    c_7954    NaN    NaN"
      ]
     },
     "execution_count": 37,
     "metadata": {},
     "output_type": "execute_result"
    }
   ],
   "source": [
    "df_missing_values.head()"
   ]
  },
  {
   "cell_type": "markdown",
   "id": "c66a39c7",
   "metadata": {
    "slideshow": {
     "slide_type": "fragment"
    }
   },
   "source": [
    "Seul le produit id 0_2245 est concerné par les valeurs manquantes.\n"
   ]
  },
  {
   "cell_type": "code",
   "execution_count": 38,
   "id": "0d0081df",
   "metadata": {
    "slideshow": {
     "slide_type": "slide"
    }
   },
   "outputs": [],
   "source": [
    "\n",
    "df_transactions_products['price'] = df_transactions_products.price.fillna(df_transactions_products.price.mean())"
   ]
  },
  {
   "cell_type": "markdown",
   "id": "91d85cdf",
   "metadata": {
    "slideshow": {
     "slide_type": "fragment"
    }
   },
   "source": [
    "Exactement 221 lignes non exploitables dans l'état pour le produit id 0_2245\n",
    "Il est préférable de les conserver en remplacant les prix NaN par le prix moyen"
   ]
  },
  {
   "cell_type": "code",
   "execution_count": 39,
   "id": "1c44b3a8",
   "metadata": {
    "slideshow": {
     "slide_type": "fragment"
    }
   },
   "outputs": [],
   "source": [
    "\n",
    "#Méthode .fillna() pour remplacer les NaN de la variable catégorie par 0\n",
    "df_transactions_products['categ'] = df_transactions_products.categ.fillna(0)"
   ]
  },
  {
   "cell_type": "markdown",
   "id": "796f4f69",
   "metadata": {
    "slideshow": {
     "slide_type": "fragment"
    }
   },
   "source": [
    "Le produit id 0_2245 doit-être classifié en catégorie 0, il commence par \"0_\""
   ]
  },
  {
   "cell_type": "code",
   "execution_count": 40,
   "id": "1853043b",
   "metadata": {
    "scrolled": true,
    "slideshow": {
     "slide_type": "skip"
    }
   },
   "outputs": [
    {
     "data": {
      "text/plain": [
       "id_prod       0\n",
       "date          0\n",
       "session_id    0\n",
       "client_id     0\n",
       "price         0\n",
       "categ         0\n",
       "dtype: int64"
      ]
     },
     "execution_count": 40,
     "metadata": {},
     "output_type": "execute_result"
    }
   ],
   "source": [
    "#Nouvelle vérification des valeurs manquantes, normalement les catégories sont désormais sans NaN\n",
    "df_transactions_products.isnull().sum()"
   ]
  },
  {
   "cell_type": "code",
   "execution_count": 41,
   "id": "1a3f8cb4",
   "metadata": {
    "scrolled": false,
    "slideshow": {
     "slide_type": "slide"
    }
   },
   "outputs": [
    {
     "data": {
      "text/html": [
       "<div>\n",
       "<style scoped>\n",
       "    .dataframe tbody tr th:only-of-type {\n",
       "        vertical-align: middle;\n",
       "    }\n",
       "\n",
       "    .dataframe tbody tr th {\n",
       "        vertical-align: top;\n",
       "    }\n",
       "\n",
       "    .dataframe thead th {\n",
       "        text-align: right;\n",
       "    }\n",
       "</style>\n",
       "<table border=\"1\" class=\"dataframe\">\n",
       "  <thead>\n",
       "    <tr style=\"text-align: right;\">\n",
       "      <th></th>\n",
       "      <th>client_id</th>\n",
       "      <th>sex</th>\n",
       "      <th>birth</th>\n",
       "      <th>id_prod</th>\n",
       "      <th>date</th>\n",
       "      <th>session_id</th>\n",
       "      <th>price</th>\n",
       "      <th>categ</th>\n",
       "    </tr>\n",
       "  </thead>\n",
       "  <tbody>\n",
       "    <tr>\n",
       "      <th>0</th>\n",
       "      <td>c_4410</td>\n",
       "      <td>f</td>\n",
       "      <td>1967</td>\n",
       "      <td>0_1316</td>\n",
       "      <td>2021-12-29 09:11:18.860592</td>\n",
       "      <td>s_141762</td>\n",
       "      <td>7.20</td>\n",
       "      <td>0.0</td>\n",
       "    </tr>\n",
       "    <tr>\n",
       "      <th>1</th>\n",
       "      <td>c_4410</td>\n",
       "      <td>f</td>\n",
       "      <td>1967</td>\n",
       "      <td>1_385</td>\n",
       "      <td>2021-03-22 01:40:22.782925</td>\n",
       "      <td>s_9707</td>\n",
       "      <td>25.99</td>\n",
       "      <td>1.0</td>\n",
       "    </tr>\n",
       "    <tr>\n",
       "      <th>2</th>\n",
       "      <td>c_4410</td>\n",
       "      <td>f</td>\n",
       "      <td>1967</td>\n",
       "      <td>1_190</td>\n",
       "      <td>2021-11-12 18:11:43.280574</td>\n",
       "      <td>s_118628</td>\n",
       "      <td>14.53</td>\n",
       "      <td>1.0</td>\n",
       "    </tr>\n",
       "    <tr>\n",
       "      <th>3</th>\n",
       "      <td>c_4410</td>\n",
       "      <td>f</td>\n",
       "      <td>1967</td>\n",
       "      <td>0_1455</td>\n",
       "      <td>2021-03-22 14:29:25.189266</td>\n",
       "      <td>s_9942</td>\n",
       "      <td>8.99</td>\n",
       "      <td>0.0</td>\n",
       "    </tr>\n",
       "    <tr>\n",
       "      <th>4</th>\n",
       "      <td>c_4410</td>\n",
       "      <td>f</td>\n",
       "      <td>1967</td>\n",
       "      <td>1_483</td>\n",
       "      <td>2022-03-13 21:35:55.949042</td>\n",
       "      <td>s_178686</td>\n",
       "      <td>15.99</td>\n",
       "      <td>1.0</td>\n",
       "    </tr>\n",
       "  </tbody>\n",
       "</table>\n",
       "</div>"
      ],
      "text/plain": [
       "  client_id sex  birth id_prod                       date session_id  price  \\\n",
       "0    c_4410   f   1967  0_1316 2021-12-29 09:11:18.860592   s_141762   7.20   \n",
       "1    c_4410   f   1967   1_385 2021-03-22 01:40:22.782925     s_9707  25.99   \n",
       "2    c_4410   f   1967   1_190 2021-11-12 18:11:43.280574   s_118628  14.53   \n",
       "3    c_4410   f   1967  0_1455 2021-03-22 14:29:25.189266     s_9942   8.99   \n",
       "4    c_4410   f   1967   1_483 2022-03-13 21:35:55.949042   s_178686  15.99   \n",
       "\n",
       "   categ  \n",
       "0    0.0  \n",
       "1    1.0  \n",
       "2    1.0  \n",
       "3    0.0  \n",
       "4    1.0  "
      ]
     },
     "execution_count": 41,
     "metadata": {},
     "output_type": "execute_result"
    }
   ],
   "source": [
    "#Préparation des données par jointure pour agréger les valeurs 'customers' avec celles 'transactionsv1_products'\n",
    "df = pd.merge(df_customers, df_transactions_products, on='client_id', how='inner')\n",
    "df.head()"
   ]
  },
  {
   "cell_type": "code",
   "execution_count": 42,
   "id": "78a3b92c",
   "metadata": {
    "slideshow": {
     "slide_type": "skip"
    }
   },
   "outputs": [
    {
     "data": {
      "text/plain": [
       "(679332, 8)"
      ]
     },
     "execution_count": 42,
     "metadata": {},
     "output_type": "execute_result"
    }
   ],
   "source": [
    "df.shape"
   ]
  },
  {
   "cell_type": "code",
   "execution_count": 43,
   "id": "755d369e",
   "metadata": {
    "slideshow": {
     "slide_type": "fragment"
    }
   },
   "outputs": [
    {
     "data": {
      "text/plain": [
       "client_id     0\n",
       "sex           0\n",
       "birth         0\n",
       "id_prod       0\n",
       "date          0\n",
       "session_id    0\n",
       "price         0\n",
       "categ         0\n",
       "dtype: int64"
      ]
     },
     "execution_count": 43,
     "metadata": {},
     "output_type": "execute_result"
    }
   ],
   "source": [
    "df.isnull().sum()"
   ]
  },
  {
   "cell_type": "markdown",
   "id": "923dd0bb",
   "metadata": {
    "slideshow": {
     "slide_type": "slide"
    }
   },
   "source": [
    "## L'ajout d'une colonne age"
   ]
  },
  {
   "cell_type": "markdown",
   "id": "77417169",
   "metadata": {
    "slideshow": {
     "slide_type": "fragment"
    }
   },
   "source": [
    "\n",
    "Il est judicieux, pour plus de compréhension, d'ajouter une colonne 'age'."
   ]
  },
  {
   "cell_type": "code",
   "execution_count": 44,
   "id": "f7682b18",
   "metadata": {
    "slideshow": {
     "slide_type": "fragment"
    }
   },
   "outputs": [],
   "source": [
    "#Ajout d'une colonne'age' pour faciliter l'analyse\n",
    "df['age'] = 2022 - df.birth"
   ]
  },
  {
   "cell_type": "code",
   "execution_count": 45,
   "id": "ac067d82",
   "metadata": {
    "scrolled": true,
    "slideshow": {
     "slide_type": "fragment"
    }
   },
   "outputs": [
    {
     "data": {
      "text/html": [
       "<div>\n",
       "<style scoped>\n",
       "    .dataframe tbody tr th:only-of-type {\n",
       "        vertical-align: middle;\n",
       "    }\n",
       "\n",
       "    .dataframe tbody tr th {\n",
       "        vertical-align: top;\n",
       "    }\n",
       "\n",
       "    .dataframe thead th {\n",
       "        text-align: right;\n",
       "    }\n",
       "</style>\n",
       "<table border=\"1\" class=\"dataframe\">\n",
       "  <thead>\n",
       "    <tr style=\"text-align: right;\">\n",
       "      <th></th>\n",
       "      <th>client_id</th>\n",
       "      <th>sex</th>\n",
       "      <th>birth</th>\n",
       "      <th>id_prod</th>\n",
       "      <th>date</th>\n",
       "      <th>session_id</th>\n",
       "      <th>price</th>\n",
       "      <th>categ</th>\n",
       "      <th>age</th>\n",
       "    </tr>\n",
       "  </thead>\n",
       "  <tbody>\n",
       "    <tr>\n",
       "      <th>0</th>\n",
       "      <td>c_4410</td>\n",
       "      <td>f</td>\n",
       "      <td>1967</td>\n",
       "      <td>0_1316</td>\n",
       "      <td>2021-12-29 09:11:18.860592</td>\n",
       "      <td>s_141762</td>\n",
       "      <td>7.20</td>\n",
       "      <td>0.0</td>\n",
       "      <td>55</td>\n",
       "    </tr>\n",
       "    <tr>\n",
       "      <th>1</th>\n",
       "      <td>c_4410</td>\n",
       "      <td>f</td>\n",
       "      <td>1967</td>\n",
       "      <td>1_385</td>\n",
       "      <td>2021-03-22 01:40:22.782925</td>\n",
       "      <td>s_9707</td>\n",
       "      <td>25.99</td>\n",
       "      <td>1.0</td>\n",
       "      <td>55</td>\n",
       "    </tr>\n",
       "    <tr>\n",
       "      <th>2</th>\n",
       "      <td>c_4410</td>\n",
       "      <td>f</td>\n",
       "      <td>1967</td>\n",
       "      <td>1_190</td>\n",
       "      <td>2021-11-12 18:11:43.280574</td>\n",
       "      <td>s_118628</td>\n",
       "      <td>14.53</td>\n",
       "      <td>1.0</td>\n",
       "      <td>55</td>\n",
       "    </tr>\n",
       "    <tr>\n",
       "      <th>3</th>\n",
       "      <td>c_4410</td>\n",
       "      <td>f</td>\n",
       "      <td>1967</td>\n",
       "      <td>0_1455</td>\n",
       "      <td>2021-03-22 14:29:25.189266</td>\n",
       "      <td>s_9942</td>\n",
       "      <td>8.99</td>\n",
       "      <td>0.0</td>\n",
       "      <td>55</td>\n",
       "    </tr>\n",
       "    <tr>\n",
       "      <th>4</th>\n",
       "      <td>c_4410</td>\n",
       "      <td>f</td>\n",
       "      <td>1967</td>\n",
       "      <td>1_483</td>\n",
       "      <td>2022-03-13 21:35:55.949042</td>\n",
       "      <td>s_178686</td>\n",
       "      <td>15.99</td>\n",
       "      <td>1.0</td>\n",
       "      <td>55</td>\n",
       "    </tr>\n",
       "  </tbody>\n",
       "</table>\n",
       "</div>"
      ],
      "text/plain": [
       "  client_id sex  birth id_prod                       date session_id  price  \\\n",
       "0    c_4410   f   1967  0_1316 2021-12-29 09:11:18.860592   s_141762   7.20   \n",
       "1    c_4410   f   1967   1_385 2021-03-22 01:40:22.782925     s_9707  25.99   \n",
       "2    c_4410   f   1967   1_190 2021-11-12 18:11:43.280574   s_118628  14.53   \n",
       "3    c_4410   f   1967  0_1455 2021-03-22 14:29:25.189266     s_9942   8.99   \n",
       "4    c_4410   f   1967   1_483 2022-03-13 21:35:55.949042   s_178686  15.99   \n",
       "\n",
       "   categ  age  \n",
       "0    0.0   55  \n",
       "1    1.0   55  \n",
       "2    1.0   55  \n",
       "3    0.0   55  \n",
       "4    1.0   55  "
      ]
     },
     "execution_count": 45,
     "metadata": {},
     "output_type": "execute_result"
    }
   ],
   "source": [
    "#Visualisation rapide de dataframe df\n",
    "df.head()"
   ]
  },
  {
   "cell_type": "markdown",
   "id": "aa42d5b2",
   "metadata": {
    "slideshow": {
     "slide_type": "slide"
    }
   },
   "source": [
    "#  Mission 2 : les analyses univariées"
   ]
  },
  {
   "cell_type": "markdown",
   "id": "404593bc",
   "metadata": {
    "slideshow": {
     "slide_type": "subslide"
    }
   },
   "source": [
    "## Brief sur les variables des 3 dataframes\n",
    "\n",
    "Variable quantitative :\n",
    "\n",
    "    -Les prix produits \n",
    "Variables qualitatives :\n",
    "\n",
    "    -Les id (client_id, id_prod, session_id) \n",
    "    -Les dates de transactions (de 2021-03-01 à 2022-02-28) \n",
    "    -Le sexe des clients (f ou m) \n",
    "    -Les catégories produits (0, 1 ou 2) \n",
    "Afin de mieux comprendre les ventes, l'analyse portera principalement sur les dimensions suivantes :\n",
    "\n",
    "    -L'évolution des ventes (Chiffre d'Affaires) \n",
    "    -Les prix produits pratiqués \n",
    "    -La répartition sectorielle (par Catégorie) \n",
    "    -La répartition démographique (par âge et sexe client) \n",
    "    -Le comportement client (fidélisation) Corrélation, lien(s) possible(s) entre les variables"
   ]
  },
  {
   "cell_type": "markdown",
   "id": "f53f5c96",
   "metadata": {
    "slideshow": {
     "slide_type": "subslide"
    }
   },
   "source": [
    "## Analyse de l'évolution du chiffre d'affaires"
   ]
  },
  {
   "cell_type": "code",
   "execution_count": 46,
   "id": "5f3a9b71",
   "metadata": {
    "slideshow": {
     "slide_type": "skip"
    }
   },
   "outputs": [
    {
     "data": {
      "text/html": [
       "<div>\n",
       "<style scoped>\n",
       "    .dataframe tbody tr th:only-of-type {\n",
       "        vertical-align: middle;\n",
       "    }\n",
       "\n",
       "    .dataframe tbody tr th {\n",
       "        vertical-align: top;\n",
       "    }\n",
       "\n",
       "    .dataframe thead th {\n",
       "        text-align: right;\n",
       "    }\n",
       "</style>\n",
       "<table border=\"1\" class=\"dataframe\">\n",
       "  <thead>\n",
       "    <tr style=\"text-align: right;\">\n",
       "      <th></th>\n",
       "      <th>date</th>\n",
       "      <th>ventes_keuros</th>\n",
       "    </tr>\n",
       "  </thead>\n",
       "  <tbody>\n",
       "    <tr>\n",
       "      <th>0</th>\n",
       "      <td>2021-03-31</td>\n",
       "      <td>482.597703</td>\n",
       "    </tr>\n",
       "    <tr>\n",
       "      <th>1</th>\n",
       "      <td>2021-04-30</td>\n",
       "      <td>476.353667</td>\n",
       "    </tr>\n",
       "    <tr>\n",
       "      <th>2</th>\n",
       "      <td>2021-05-31</td>\n",
       "      <td>493.083108</td>\n",
       "    </tr>\n",
       "    <tr>\n",
       "      <th>3</th>\n",
       "      <td>2021-06-30</td>\n",
       "      <td>484.210743</td>\n",
       "    </tr>\n",
       "    <tr>\n",
       "      <th>4</th>\n",
       "      <td>2021-07-31</td>\n",
       "      <td>482.905219</td>\n",
       "    </tr>\n",
       "    <tr>\n",
       "      <th>5</th>\n",
       "      <td>2021-08-31</td>\n",
       "      <td>482.441883</td>\n",
       "    </tr>\n",
       "    <tr>\n",
       "      <th>6</th>\n",
       "      <td>2021-09-30</td>\n",
       "      <td>507.450137</td>\n",
       "    </tr>\n",
       "    <tr>\n",
       "      <th>7</th>\n",
       "      <td>2021-10-31</td>\n",
       "      <td>320.920923</td>\n",
       "    </tr>\n",
       "    <tr>\n",
       "      <th>8</th>\n",
       "      <td>2021-11-30</td>\n",
       "      <td>516.342278</td>\n",
       "    </tr>\n",
       "    <tr>\n",
       "      <th>9</th>\n",
       "      <td>2021-12-31</td>\n",
       "      <td>526.039463</td>\n",
       "    </tr>\n",
       "    <tr>\n",
       "      <th>10</th>\n",
       "      <td>2022-01-31</td>\n",
       "      <td>525.426264</td>\n",
       "    </tr>\n",
       "    <tr>\n",
       "      <th>11</th>\n",
       "      <td>2022-02-28</td>\n",
       "      <td>535.763503</td>\n",
       "    </tr>\n",
       "    <tr>\n",
       "      <th>12</th>\n",
       "      <td>2022-03-31</td>\n",
       "      <td>515.648533</td>\n",
       "    </tr>\n",
       "    <tr>\n",
       "      <th>13</th>\n",
       "      <td>2022-04-30</td>\n",
       "      <td>493.243307</td>\n",
       "    </tr>\n",
       "    <tr>\n",
       "      <th>14</th>\n",
       "      <td>2022-05-31</td>\n",
       "      <td>517.411876</td>\n",
       "    </tr>\n",
       "    <tr>\n",
       "      <th>15</th>\n",
       "      <td>2022-06-30</td>\n",
       "      <td>496.138303</td>\n",
       "    </tr>\n",
       "    <tr>\n",
       "      <th>16</th>\n",
       "      <td>2022-07-31</td>\n",
       "      <td>510.992577</td>\n",
       "    </tr>\n",
       "    <tr>\n",
       "      <th>17</th>\n",
       "      <td>2022-08-31</td>\n",
       "      <td>506.606908</td>\n",
       "    </tr>\n",
       "    <tr>\n",
       "      <th>18</th>\n",
       "      <td>2022-09-30</td>\n",
       "      <td>494.271623</td>\n",
       "    </tr>\n",
       "    <tr>\n",
       "      <th>19</th>\n",
       "      <td>2022-10-31</td>\n",
       "      <td>508.092318</td>\n",
       "    </tr>\n",
       "    <tr>\n",
       "      <th>20</th>\n",
       "      <td>2022-11-30</td>\n",
       "      <td>496.856943</td>\n",
       "    </tr>\n",
       "    <tr>\n",
       "      <th>21</th>\n",
       "      <td>2022-12-31</td>\n",
       "      <td>510.324229</td>\n",
       "    </tr>\n",
       "    <tr>\n",
       "      <th>22</th>\n",
       "      <td>2023-01-31</td>\n",
       "      <td>517.662733</td>\n",
       "    </tr>\n",
       "    <tr>\n",
       "      <th>23</th>\n",
       "      <td>2023-02-28</td>\n",
       "      <td>456.801943</td>\n",
       "    </tr>\n",
       "  </tbody>\n",
       "</table>\n",
       "</div>"
      ],
      "text/plain": [
       "         date  ventes_keuros\n",
       "0  2021-03-31     482.597703\n",
       "1  2021-04-30     476.353667\n",
       "2  2021-05-31     493.083108\n",
       "3  2021-06-30     484.210743\n",
       "4  2021-07-31     482.905219\n",
       "5  2021-08-31     482.441883\n",
       "6  2021-09-30     507.450137\n",
       "7  2021-10-31     320.920923\n",
       "8  2021-11-30     516.342278\n",
       "9  2021-12-31     526.039463\n",
       "10 2022-01-31     525.426264\n",
       "11 2022-02-28     535.763503\n",
       "12 2022-03-31     515.648533\n",
       "13 2022-04-30     493.243307\n",
       "14 2022-05-31     517.411876\n",
       "15 2022-06-30     496.138303\n",
       "16 2022-07-31     510.992577\n",
       "17 2022-08-31     506.606908\n",
       "18 2022-09-30     494.271623\n",
       "19 2022-10-31     508.092318\n",
       "20 2022-11-30     496.856943\n",
       "21 2022-12-31     510.324229\n",
       "22 2023-01-31     517.662733\n",
       "23 2023-02-28     456.801943"
      ]
     },
     "execution_count": 46,
     "metadata": {},
     "output_type": "execute_result"
    }
   ],
   "source": [
    "#Agrégation des données transactionnelles par fréquence mensuelle (méthode .groupby())\n",
    "df_transactions_months = df_transactions_products.groupby(pd.Grouper(key='date', freq='M')).sum().reset_index()\n",
    "\n",
    "df_transactions_months['ventes_keuros'] = df_transactions_months.price / 1000\n",
    "df_transactions_months = df_transactions_months[['date', 'ventes_keuros']]\n",
    "df_transactions_months"
   ]
  },
  {
   "cell_type": "code",
   "execution_count": 47,
   "id": "93ed1434",
   "metadata": {
    "slideshow": {
     "slide_type": "slide"
    }
   },
   "outputs": [
    {
     "data": {
      "image/png": "[encoded data removed]",
      "text/plain": [
       "<Figure size 1008x504 with 1 Axes>"
      ]
     },
     "metadata": {},
     "output_type": "display_data"
    }
   ],
   "source": [
    "#Visualisation de l'évolution des ventes sur les 12 derniers mois\n",
    "df_transactions_months.plot(x='date', y='ventes_keuros')\n",
    "\n",
    "plt.title('Evolution des ventes')\n",
    "plt.xlabel('Date')\n",
    "plt.ylabel('Ventes K€')\n",
    "\n",
    "plt.savefig(\"graphic/evolution_ventes.png\")\n",
    "plt.show()"
   ]
  },
  {
   "cell_type": "markdown",
   "id": "5b5cde00",
   "metadata": {
    "slideshow": {
     "slide_type": "fragment"
    }
   },
   "source": [
    "*Une baisse d'activité significative est enregistrée sur le mois d'octobre, mais pourquoi ?*"
   ]
  },
  {
   "cell_type": "code",
   "execution_count": 48,
   "id": "8d166b61",
   "metadata": {
    "slideshow": {
     "slide_type": "slide"
    }
   },
   "outputs": [
    {
     "data": {
      "text/plain": [
       "22917"
      ]
     },
     "execution_count": 48,
     "metadata": {},
     "output_type": "execute_result"
    }
   ],
   "source": [
    "#Restriction selon les dates du mois d'octobre\n",
    "transaction_october = len(df_transactions_products[(df_transactions_products.date > '2021-09-30') & \\\n",
    "                                                   (df_transactions_products.date < '2021-11-01')])\n",
    "transaction_october"
   ]
  },
  {
   "cell_type": "code",
   "execution_count": 49,
   "id": "bb6e73a1",
   "metadata": {
    "slideshow": {
     "slide_type": "fragment"
    }
   },
   "outputs": [
    {
     "data": {
      "text/plain": [
       "34148"
      ]
     },
     "execution_count": 49,
     "metadata": {},
     "output_type": "execute_result"
    }
   ],
   "source": [
    "#Restriction selon les dates du mois de septembre\n",
    "transaction_september = len(df_transactions_products[(df_transactions_products.date > '2021-08-31') & \\\n",
    "                                                     (df_transactions_products.date < '2021-10-01')])\n",
    "transaction_september"
   ]
  },
  {
   "cell_type": "markdown",
   "id": "8ffbc2ba",
   "metadata": {
    "slideshow": {
     "slide_type": "fragment"
    }
   },
   "source": [
    "Il semble manquer des valeurs sur le mois d'octobre, la visualisation le montre, et le nombre de lignes identifiées sur la période semble le confirmer également. Une vérification supplémentaire est nécessaire."
   ]
  },
  {
   "cell_type": "code",
   "execution_count": 50,
   "id": "e473bdc6",
   "metadata": {
    "slideshow": {
     "slide_type": "slide"
    }
   },
   "outputs": [
    {
     "data": {
      "text/html": [
       "<div>\n",
       "<style scoped>\n",
       "    .dataframe tbody tr th:only-of-type {\n",
       "        vertical-align: middle;\n",
       "    }\n",
       "\n",
       "    .dataframe tbody tr th {\n",
       "        vertical-align: top;\n",
       "    }\n",
       "\n",
       "    .dataframe thead th {\n",
       "        text-align: right;\n",
       "    }\n",
       "</style>\n",
       "<table border=\"1\" class=\"dataframe\">\n",
       "  <thead>\n",
       "    <tr style=\"text-align: right;\">\n",
       "      <th></th>\n",
       "      <th>client_id</th>\n",
       "      <th>sex</th>\n",
       "      <th>birth</th>\n",
       "      <th>id_prod</th>\n",
       "      <th>date</th>\n",
       "      <th>session_id</th>\n",
       "      <th>price</th>\n",
       "      <th>categ</th>\n",
       "      <th>age</th>\n",
       "    </tr>\n",
       "  </thead>\n",
       "  <tbody>\n",
       "  </tbody>\n",
       "</table>\n",
       "</div>"
      ],
      "text/plain": [
       "Empty DataFrame\n",
       "Columns: [client_id, sex, birth, id_prod, date, session_id, price, categ, age]\n",
       "Index: []"
      ]
     },
     "execution_count": 50,
     "metadata": {},
     "output_type": "execute_result"
    }
   ],
   "source": [
    "#Restriction par catégorie pour identifier les valeurs manquantes sur le mois d'octobre \n",
    "#les catégorie 0 et 2 sont tester aussi\n",
    "df[(df.categ == 1) & (df.date > '2021-10-02') & \\\n",
    "                                                   (df.date < '2021-10-28')]"
   ]
  },
  {
   "cell_type": "markdown",
   "id": "01467701",
   "metadata": {
    "slideshow": {
     "slide_type": "fragment"
    }
   },
   "source": [
    "Aucune transaction sur les produits de catégorie 1 durant le mois d'octobre.\n",
    "\n",
    "Pour la suite de l'étude le mois d'octobre ne sera pas pris en compte, l'analyse se fera sur 11 mois au lieu de 12."
   ]
  },
  {
   "cell_type": "code",
   "execution_count": 51,
   "id": "1bf68f6e",
   "metadata": {
    "slideshow": {
     "slide_type": "skip"
    }
   },
   "outputs": [],
   "source": [
    "#Création (par restriction des dates)du dataframe 'df_transactionsv1' excluant les transactions du mois d'octobre\n",
    "df =  df[(df.date <= '2021-09-30') | (df.date >= '2021-11-01')]"
   ]
  },
  {
   "cell_type": "markdown",
   "id": "2393e3e3",
   "metadata": {
    "slideshow": {
     "slide_type": "slide"
    }
   },
   "source": [
    "## Analyse des prix pratiques : variable '*price*' "
   ]
  },
  {
   "cell_type": "markdown",
   "id": "dc55c58b",
   "metadata": {
    "slideshow": {
     "slide_type": "skip"
    }
   },
   "source": [
    "### > Mesures de tendance centrale et dispersion des prix produits *(toutes catégories confondues)*"
   ]
  },
  {
   "cell_type": "code",
   "execution_count": 52,
   "id": "d7016628",
   "metadata": {
    "slideshow": {
     "slide_type": "skip"
    }
   },
   "outputs": [
    {
     "data": {
      "text/plain": [
       "17.55"
      ]
     },
     "execution_count": 52,
     "metadata": {},
     "output_type": "execute_result"
    }
   ],
   "source": [
    "#Calcul de la Moyenne des prix produits vendus \n",
    "round(df['price'].mean(), 2)"
   ]
  },
  {
   "cell_type": "code",
   "execution_count": 53,
   "id": "81375928",
   "metadata": {
    "slideshow": {
     "slide_type": "skip"
    }
   },
   "outputs": [
    {
     "data": {
      "text/plain": [
       "13.99"
      ]
     },
     "execution_count": 53,
     "metadata": {},
     "output_type": "execute_result"
    }
   ],
   "source": [
    "#Calcul de la Mediane des prix produits vendus\n",
    "df['price'].median()"
   ]
  },
  {
   "cell_type": "code",
   "execution_count": 54,
   "id": "21e3c0a3",
   "metadata": {
    "slideshow": {
     "slide_type": "skip"
    }
   },
   "outputs": [
    {
     "data": {
      "text/plain": [
       "0    15.99\n",
       "dtype: float64"
      ]
     },
     "execution_count": 54,
     "metadata": {},
     "output_type": "execute_result"
    }
   ],
   "source": [
    "#Calcul du Mode des prix produits vendus\n",
    "df['price'].mode()"
   ]
  },
  {
   "cell_type": "code",
   "execution_count": 55,
   "id": "34d0e898",
   "metadata": {
    "slideshow": {
     "slide_type": "skip"
    }
   },
   "outputs": [
    {
     "data": {
      "text/plain": [
       "336.71"
      ]
     },
     "execution_count": 55,
     "metadata": {},
     "output_type": "execute_result"
    }
   ],
   "source": [
    "#Calcul de la Variance des prix produits vendus\n",
    "round(df['price'].var(ddof=0), 2)"
   ]
  },
  {
   "cell_type": "code",
   "execution_count": 56,
   "id": "3a57407b",
   "metadata": {
    "slideshow": {
     "slide_type": "skip"
    }
   },
   "outputs": [
    {
     "data": {
      "text/plain": [
       "18.35"
      ]
     },
     "execution_count": 56,
     "metadata": {},
     "output_type": "execute_result"
    }
   ],
   "source": [
    "#Calcul de l'écart type des prix produits vendus \n",
    "round(df['price'].std(ddof=0), 2)"
   ]
  },
  {
   "cell_type": "code",
   "execution_count": 57,
   "id": "411747e0",
   "metadata": {
    "scrolled": false,
    "slideshow": {
     "slide_type": "slide"
    }
   },
   "outputs": [
    {
     "data": {
      "image/png": "[encoded data removed]",
      "text/plain": [
       "<Figure size 1008x504 with 1 Axes>"
      ]
     },
     "metadata": {},
     "output_type": "display_data"
    }
   ],
   "source": [
    "#Visualisation (Histogramme)de la distribution des prix produits\n",
    "df['price'].hist(color='#0504aa', alpha=0.5, density=True, bins=20)\n",
    "\n",
    "plt.title('Distribution de la variable \"price\"')\n",
    "plt.xlabel('Prix produits(€)')\n",
    "plt.ylabel('Fréquence d\\'apparition')\n",
    "\n",
    "plt.savefig(\"graphic/distribution_price.png\")\n",
    "plt.show()"
   ]
  },
  {
   "cell_type": "markdown",
   "id": "3ad2d882",
   "metadata": {
    "slideshow": {
     "slide_type": "fragment"
    }
   },
   "source": [
    "Le graphiques nous montre que plus le plus est élevé plus la fréquence d'achat baisse.\n",
    "Les produis les plus vendus ont des prix moins de 30 euros."
   ]
  },
  {
   "cell_type": "markdown",
   "id": "638274e6",
   "metadata": {
    "slideshow": {
     "slide_type": "skip"
    }
   },
   "source": [
    "Plus bas nous verrons la distribution des prix produits par catégorie…"
   ]
  },
  {
   "cell_type": "markdown",
   "id": "fa4b9580",
   "metadata": {
    "slideshow": {
     "slide_type": "slide"
    }
   },
   "source": [
    "### > Mesure de concentration des prix produits *(toutes catégories confondues)*"
   ]
  },
  {
   "cell_type": "code",
   "execution_count": 58,
   "id": "9d9a5089",
   "metadata": {},
   "outputs": [],
   "source": [
    "#Sélection du sous-échantillon de travail que l'on appelle price\n",
    "#On place les observations dans une variable\n",
    "#Tri des individus dans l'ordre croissant des valeurs de la variable, \n",
    "#Calcul de la somme cumulée et normalisation en divisant par la somme des observations"
   ]
  },
  {
   "cell_type": "code",
   "execution_count": 59,
   "id": "1ddbb0d8",
   "metadata": {
    "slideshow": {
     "slide_type": "slide"
    }
   },
   "outputs": [
    {
     "data": {
      "image/png": "[encoded data removed]",
      "text/plain": [
       "<Figure size 1008x504 with 1 Axes>"
      ]
     },
     "metadata": {},
     "output_type": "display_data"
    }
   ],
   "source": [
    "price = df['price'].values\n",
    "lorenz_price = np.cumsum(np.sort(price)) / price.sum()\n",
    "plt.plot(np.linspace(0,1,len(lorenz_price)), lorenz_price, drawstyle='steps-post', color='rosybrown', label='Lorenz')\n",
    "plt.fill_between(np.linspace(0,1,len(lorenz_price)) ,lorenz_price , color='#539ecd')\n",
    "plt.plot([0, 1], [0, 1], 'r-', lw=2, label='Distribution égalitaire')\n",
    "plt.vlines(x=.76, ymin=0, ymax=.5, color='blue', linestyle='--', linewidth=1, label='Medial')\n",
    "plt.hlines(xmin=.76, xmax=0, y=.5, color='blue', linestyle='--', linewidth=1)\n",
    "plt.title('Courbe de Lorenz des prix de vente')\n",
    "plt.xlabel(\"Distribution des prix de ventes (%)\")\n",
    "plt.ylabel(\"Cumul des prix de ventes (%)\")\n",
    "plt.legend(loc=\"best\")\n",
    "plt.savefig(\"graphic/lorenz_price.png\")\n",
    "plt.show()"
   ]
  },
  {
   "cell_type": "markdown",
   "id": "b95e3e57",
   "metadata": {
    "slideshow": {
     "slide_type": "subslide"
    }
   },
   "source": [
    "La courbe de Lorenz est une représentation graphique de la distribution d'une variable au sein d'une population. Elle permet de calculer le coefficient de Gini, qui mesure l'inégalité de cette variable dans une population donnée."
   ]
  },
  {
   "cell_type": "markdown",
   "id": "3f92ae06",
   "metadata": {
    "slideshow": {
     "slide_type": "fragment"
    }
   },
   "source": [
    "On constate que 76% des ventes représentent 50% du montant total des prix de vente. Ce n'est pas une égalité totale, mais acceptable dans notre contexte business."
   ]
  },
  {
   "cell_type": "code",
   "execution_count": 60,
   "id": "9a4fd5b0",
   "metadata": {
    "slideshow": {
     "slide_type": "fragment"
    }
   },
   "outputs": [
    {
     "name": "stdout",
     "output_type": "stream",
     "text": [
      "L'indice de Gini est égal à 0.39\n"
     ]
    }
   ],
   "source": [
    "#Aire sous la courbe de Lorenz. La dernière valeur ne participe pas à l'aire, d'où \"[:-1]\"\n",
    "aire_ss_courbe_price = lorenz_price[:-1].sum()/len(lorenz_price) \n",
    "\n",
    "#Aire entre la 1e bissectrice et la courbe de Lorenz\n",
    "S = 0.5 - aire_ss_courbe_price \n",
    "gini_price = round(2*S, 2)\n",
    "\n",
    "print(\"L'indice de Gini est égal à {}\".format(gini_price))"
   ]
  },
  {
   "cell_type": "markdown",
   "id": "ae561ffb",
   "metadata": {
    "slideshow": {
     "slide_type": "fragment"
    }
   },
   "source": [
    "Confirmation avec l'indice de Gini plus proche de 0 que de 1, les prix pratiqués ont tendance à être équitables."
   ]
  },
  {
   "cell_type": "markdown",
   "id": "a0dce386",
   "metadata": {
    "slideshow": {
     "slide_type": "slide"
    }
   },
   "source": [
    "## Analyse sectorielle de l'activité selon la catégorie des produits "
   ]
  },
  {
   "cell_type": "code",
   "execution_count": 61,
   "id": "8c4578a5",
   "metadata": {
    "slideshow": {
     "slide_type": "skip"
    }
   },
   "outputs": [
    {
     "data": {
      "text/html": [
       "<div>\n",
       "<style scoped>\n",
       "    .dataframe tbody tr th:only-of-type {\n",
       "        vertical-align: middle;\n",
       "    }\n",
       "\n",
       "    .dataframe tbody tr th {\n",
       "        vertical-align: top;\n",
       "    }\n",
       "\n",
       "    .dataframe thead th {\n",
       "        text-align: right;\n",
       "    }\n",
       "</style>\n",
       "<table border=\"1\" class=\"dataframe\">\n",
       "  <thead>\n",
       "    <tr style=\"text-align: right;\">\n",
       "      <th></th>\n",
       "      <th>categ</th>\n",
       "      <th>n</th>\n",
       "      <th>f</th>\n",
       "    </tr>\n",
       "  </thead>\n",
       "  <tbody>\n",
       "    <tr>\n",
       "      <th>0</th>\n",
       "      <td>0.0</td>\n",
       "      <td>395961</td>\n",
       "      <td>0.603217</td>\n",
       "    </tr>\n",
       "    <tr>\n",
       "      <th>1</th>\n",
       "      <td>1.0</td>\n",
       "      <td>225161</td>\n",
       "      <td>0.343016</td>\n",
       "    </tr>\n",
       "    <tr>\n",
       "      <th>2</th>\n",
       "      <td>2.0</td>\n",
       "      <td>35293</td>\n",
       "      <td>0.053766</td>\n",
       "    </tr>\n",
       "  </tbody>\n",
       "</table>\n",
       "</div>"
      ],
      "text/plain": [
       "   categ       n         f\n",
       "0    0.0  395961  0.603217\n",
       "1    1.0  225161  0.343016\n",
       "2    2.0   35293  0.053766"
      ]
     },
     "execution_count": 61,
     "metadata": {},
     "output_type": "execute_result"
    }
   ],
   "source": [
    "#Représentation des effectifs par catégories de vente(méthode .value_counts())\n",
    "effectif = df['categ'].value_counts()\n",
    "modalite = effectif.index #l'index de 'effectifs' contient les modalités\n",
    "\n",
    "tab = pd.DataFrame(modalite, columns = ['categ']) #création du tableau à partir des modalités\n",
    "tab[\"n\"] = effectif.values\n",
    "tab[\"f\"] = tab[\"n\"] / len(df) #len(df) renvoie la taille de l'échantillon\n",
    "tab"
   ]
  },
  {
   "cell_type": "code",
   "execution_count": 62,
   "id": "c6f5f15f",
   "metadata": {
    "slideshow": {
     "slide_type": "skip"
    }
   },
   "outputs": [
    {
     "data": {
      "text/html": [
       "<div>\n",
       "<style scoped>\n",
       "    .dataframe tbody tr th:only-of-type {\n",
       "        vertical-align: middle;\n",
       "    }\n",
       "\n",
       "    .dataframe tbody tr th {\n",
       "        vertical-align: top;\n",
       "    }\n",
       "\n",
       "    .dataframe thead th {\n",
       "        text-align: right;\n",
       "    }\n",
       "</style>\n",
       "<table border=\"1\" class=\"dataframe\">\n",
       "  <thead>\n",
       "    <tr style=\"text-align: right;\">\n",
       "      <th></th>\n",
       "      <th>categ</th>\n",
       "      <th>n</th>\n",
       "      <th>f</th>\n",
       "      <th>F</th>\n",
       "    </tr>\n",
       "  </thead>\n",
       "  <tbody>\n",
       "    <tr>\n",
       "      <th>0</th>\n",
       "      <td>0.0</td>\n",
       "      <td>395961</td>\n",
       "      <td>0.603217</td>\n",
       "      <td>0.603217</td>\n",
       "    </tr>\n",
       "    <tr>\n",
       "      <th>1</th>\n",
       "      <td>1.0</td>\n",
       "      <td>225161</td>\n",
       "      <td>0.343016</td>\n",
       "      <td>0.946234</td>\n",
       "    </tr>\n",
       "    <tr>\n",
       "      <th>2</th>\n",
       "      <td>2.0</td>\n",
       "      <td>35293</td>\n",
       "      <td>0.053766</td>\n",
       "      <td>1.000000</td>\n",
       "    </tr>\n",
       "  </tbody>\n",
       "</table>\n",
       "</div>"
      ],
      "text/plain": [
       "   categ       n         f         F\n",
       "0    0.0  395961  0.603217  0.603217\n",
       "1    1.0  225161  0.343016  0.946234\n",
       "2    2.0   35293  0.053766  1.000000"
      ]
     },
     "execution_count": 62,
     "metadata": {},
     "output_type": "execute_result"
    }
   ],
   "source": [
    "#Fréquences cumulées\n",
    "tab = tab.sort_values(\"categ\") # tri des valeurs de la variable X (croissant)\n",
    "tab[\"F\"] = tab[\"f\"].cumsum() # cumsum calcule la somme cumulée\n",
    "tab"
   ]
  },
  {
   "cell_type": "code",
   "execution_count": 63,
   "id": "9e28651f",
   "metadata": {
    "slideshow": {
     "slide_type": "slide"
    }
   },
   "outputs": [
    {
     "data": {
      "image/png": "[encoded data removed]",
      "text/plain": [
       "<Figure size 1008x576 with 1 Axes>"
      ]
     },
     "metadata": {},
     "output_type": "display_data"
    }
   ],
   "source": [
    "#Pie Chart pour représenter la part de chacune des catégories de vente\n",
    "labels = 'Catégorie 0', 'Catégorie 1', 'Catégorie 2'\n",
    "sizes = tab['f']\n",
    "explode = (0.01, 0.02, 0)\n",
    "\n",
    "fig1, ax1 = plt.subplots(figsize=(14,8))\n",
    "ax1.pie(sizes, explode=explode, labels=labels, autopct='%1.1f%%', shadow=False, startangle=80)\n",
    "\n",
    "ax1.axis('equal') \n",
    "plt.title('Répartition vente par apport aux catégories')\n",
    "plt.savefig(\"graphic/repartition_categories.png\")\n",
    "plt.show()"
   ]
  },
  {
   "cell_type": "code",
   "execution_count": 64,
   "id": "57a55bcf",
   "metadata": {
    "slideshow": {
     "slide_type": "slide"
    }
   },
   "outputs": [
    {
     "data": {
      "image/png": "[encoded data removed]",
      "text/plain": [
       "<Figure size 1008x504 with 1 Axes>"
      ]
     },
     "metadata": {},
     "output_type": "display_data"
    }
   ],
   "source": [
    "#boxplot\n",
    "#Autre représentation possible avec Seaborn \n",
    "sns.boxplot(x = 'categ', y = 'price', data = df, palette=\"Set2\")\n",
    "plt.title('Dispersion des prix de vente par catégorie')\n",
    "plt.show()"
   ]
  },
  {
   "cell_type": "markdown",
   "id": "c799e7cb",
   "metadata": {
    "slideshow": {
     "slide_type": "fragment"
    }
   },
   "source": [
    "Les 3 catégories n'ont pas les mêmes types (ou gamme)de produits. La catégorie 2 par exemple a un prix moyen proche des 60€ avec des outliers en queue de distribution jusqu'à 300€."
   ]
  },
  {
   "cell_type": "markdown",
   "id": "d796e048",
   "metadata": {
    "slideshow": {
     "slide_type": "fragment"
    }
   },
   "source": [
    "La distribution des prix au sein de chacune des catégories n'est pas symétrique puisqu'elle ne présente pas la même forme. Nous avons presque une égalité entre la Moyenne et la Médiane, mais le Mode est à chaque fois plus éloigné."
   ]
  },
  {
   "cell_type": "markdown",
   "id": "a29561bd",
   "metadata": {
    "slideshow": {
     "slide_type": "slide"
    }
   },
   "source": [
    "### Répartition du nombre de produit par catégorie"
   ]
  },
  {
   "cell_type": "code",
   "execution_count": 65,
   "id": "e5593969",
   "metadata": {
    "slideshow": {
     "slide_type": "skip"
    }
   },
   "outputs": [
    {
     "name": "stdout",
     "output_type": "stream",
     "text": [
      "2308\n"
     ]
    }
   ],
   "source": [
    "#Comptage des produits présents en catégorie 0\n",
    "cag0=len(df_products[df_products.categ == 0].groupby('id_prod'))\n",
    "print(cag0)"
   ]
  },
  {
   "cell_type": "code",
   "execution_count": 66,
   "id": "52056c55",
   "metadata": {
    "slideshow": {
     "slide_type": "skip"
    }
   },
   "outputs": [
    {
     "name": "stdout",
     "output_type": "stream",
     "text": [
      "739\n"
     ]
    }
   ],
   "source": [
    "#Comptage des produits présents en catégorie 1\n",
    "cag1=len(df_products[df_products.categ == 1].groupby('id_prod'))\n",
    "print(cag1)"
   ]
  },
  {
   "cell_type": "code",
   "execution_count": 67,
   "id": "76f3dfe0",
   "metadata": {
    "slideshow": {
     "slide_type": "skip"
    }
   },
   "outputs": [
    {
     "name": "stdout",
     "output_type": "stream",
     "text": [
      "239\n"
     ]
    }
   ],
   "source": [
    "#Comptage des produits présents en catégorie 2\n",
    "cag2=len(df_products[df_products.categ == 2].groupby('id_prod'))\n",
    "print(cag2)"
   ]
  },
  {
   "cell_type": "code",
   "execution_count": 68,
   "id": "d64e33bd",
   "metadata": {
    "slideshow": {
     "slide_type": "slide"
    }
   },
   "outputs": [
    {
     "data": {
      "image/png": "[encoded data removed]",
      "text/plain": [
       "<Figure size 1008x576 with 1 Axes>"
      ]
     },
     "metadata": {},
     "output_type": "display_data"
    }
   ],
   "source": [
    "labels = 'Catégorie 0', 'Catégorie 1', 'Catégorie 2'\n",
    "data = [cag0, cag1, cag2] \n",
    "sizes = data\n",
    "explode = (0.02, 0.02, 0.0)\n",
    "fig1, ax1 = plt.subplots(figsize=(14,8))\n",
    "ax1.pie(sizes, explode=explode, labels=labels, autopct='%1.1f%%', shadow=False, startangle=80)\n",
    "ax1.axis('equal') \n",
    "plt.title('Répartition du nombre de produit par catégories')\n",
    "plt.savefig(\"graphic/repartition_categories.png\")\n",
    "plt.show()"
   ]
  },
  {
   "cell_type": "markdown",
   "id": "c2682420",
   "metadata": {
    "slideshow": {
     "slide_type": "fragment"
    }
   },
   "source": [
    " Il y'a visiblement peu de choix en catégorie 2."
   ]
  },
  {
   "cell_type": "markdown",
   "id": "4a97c522",
   "metadata": {
    "slideshow": {
     "slide_type": "slide"
    }
   },
   "source": [
    "## Analyse démographique de l'activité"
   ]
  },
  {
   "cell_type": "markdown",
   "id": "2227dacc",
   "metadata": {
    "slideshow": {
     "slide_type": "fragment"
    }
   },
   "source": [
    "### distribution des age clients"
   ]
  },
  {
   "cell_type": "code",
   "execution_count": 69,
   "id": "777b9957",
   "metadata": {
    "slideshow": {
     "slide_type": "skip"
    }
   },
   "outputs": [
    {
     "data": {
      "text/html": [
       "<div>\n",
       "<style scoped>\n",
       "    .dataframe tbody tr th:only-of-type {\n",
       "        vertical-align: middle;\n",
       "    }\n",
       "\n",
       "    .dataframe tbody tr th {\n",
       "        vertical-align: top;\n",
       "    }\n",
       "\n",
       "    .dataframe thead th {\n",
       "        text-align: right;\n",
       "    }\n",
       "</style>\n",
       "<table border=\"1\" class=\"dataframe\">\n",
       "  <thead>\n",
       "    <tr style=\"text-align: right;\">\n",
       "      <th></th>\n",
       "      <th>client_id</th>\n",
       "      <th>sex</th>\n",
       "      <th>birth</th>\n",
       "      <th>id_prod</th>\n",
       "      <th>date</th>\n",
       "      <th>session_id</th>\n",
       "      <th>price</th>\n",
       "      <th>categ</th>\n",
       "      <th>age</th>\n",
       "    </tr>\n",
       "  </thead>\n",
       "  <tbody>\n",
       "    <tr>\n",
       "      <th>0</th>\n",
       "      <td>c_4410</td>\n",
       "      <td>f</td>\n",
       "      <td>1967</td>\n",
       "      <td>0_1316</td>\n",
       "      <td>2021-12-29 09:11:18.860592</td>\n",
       "      <td>s_141762</td>\n",
       "      <td>7.20</td>\n",
       "      <td>0.0</td>\n",
       "      <td>55</td>\n",
       "    </tr>\n",
       "    <tr>\n",
       "      <th>1</th>\n",
       "      <td>c_4410</td>\n",
       "      <td>f</td>\n",
       "      <td>1967</td>\n",
       "      <td>1_385</td>\n",
       "      <td>2021-03-22 01:40:22.782925</td>\n",
       "      <td>s_9707</td>\n",
       "      <td>25.99</td>\n",
       "      <td>1.0</td>\n",
       "      <td>55</td>\n",
       "    </tr>\n",
       "    <tr>\n",
       "      <th>2</th>\n",
       "      <td>c_4410</td>\n",
       "      <td>f</td>\n",
       "      <td>1967</td>\n",
       "      <td>1_190</td>\n",
       "      <td>2021-11-12 18:11:43.280574</td>\n",
       "      <td>s_118628</td>\n",
       "      <td>14.53</td>\n",
       "      <td>1.0</td>\n",
       "      <td>55</td>\n",
       "    </tr>\n",
       "    <tr>\n",
       "      <th>3</th>\n",
       "      <td>c_4410</td>\n",
       "      <td>f</td>\n",
       "      <td>1967</td>\n",
       "      <td>0_1455</td>\n",
       "      <td>2021-03-22 14:29:25.189266</td>\n",
       "      <td>s_9942</td>\n",
       "      <td>8.99</td>\n",
       "      <td>0.0</td>\n",
       "      <td>55</td>\n",
       "    </tr>\n",
       "    <tr>\n",
       "      <th>4</th>\n",
       "      <td>c_4410</td>\n",
       "      <td>f</td>\n",
       "      <td>1967</td>\n",
       "      <td>1_483</td>\n",
       "      <td>2022-03-13 21:35:55.949042</td>\n",
       "      <td>s_178686</td>\n",
       "      <td>15.99</td>\n",
       "      <td>1.0</td>\n",
       "      <td>55</td>\n",
       "    </tr>\n",
       "  </tbody>\n",
       "</table>\n",
       "</div>"
      ],
      "text/plain": [
       "  client_id sex  birth id_prod                       date session_id  price  \\\n",
       "0    c_4410   f   1967  0_1316 2021-12-29 09:11:18.860592   s_141762   7.20   \n",
       "1    c_4410   f   1967   1_385 2021-03-22 01:40:22.782925     s_9707  25.99   \n",
       "2    c_4410   f   1967   1_190 2021-11-12 18:11:43.280574   s_118628  14.53   \n",
       "3    c_4410   f   1967  0_1455 2021-03-22 14:29:25.189266     s_9942   8.99   \n",
       "4    c_4410   f   1967   1_483 2022-03-13 21:35:55.949042   s_178686  15.99   \n",
       "\n",
       "   categ  age  \n",
       "0    0.0   55  \n",
       "1    1.0   55  \n",
       "2    1.0   55  \n",
       "3    0.0   55  \n",
       "4    1.0   55  "
      ]
     },
     "execution_count": 69,
     "metadata": {},
     "output_type": "execute_result"
    }
   ],
   "source": [
    "df.head()"
   ]
  },
  {
   "cell_type": "code",
   "execution_count": 70,
   "id": "9e821868",
   "metadata": {
    "slideshow": {
     "slide_type": "subslide"
    }
   },
   "outputs": [
    {
     "data": {
      "image/png": "[encoded data removed]",
      "text/plain": [
       "<Figure size 1008x504 with 1 Axes>"
      ]
     },
     "metadata": {},
     "output_type": "display_data"
    }
   ],
   "source": [
    "#Visualisation (Histogramme)de la distribution de l'âge clients\n",
    "df['age'].hist(density=True, alpha=0.5, bins=20)\n",
    "plt.xlabel('Âges')\n",
    "plt.title('Distribution des âges clients')\n",
    "plt.savefig(\"graphic/distribution_ages_clients.png\")\n",
    "plt.show()"
   ]
  },
  {
   "cell_type": "markdown",
   "id": "46fca47e",
   "metadata": {
    "slideshow": {
     "slide_type": "fragment"
    }
   },
   "source": [
    "La majeure partie des clients se concentrent entre 30 et 55 ans"
   ]
  },
  {
   "cell_type": "markdown",
   "id": "f6bb384a",
   "metadata": {
    "slideshow": {
     "slide_type": "slide"
    }
   },
   "source": [
    "###  Mesure de concentration des âges clients "
   ]
  },
  {
   "cell_type": "code",
   "execution_count": 71,
   "id": "a684652b",
   "metadata": {
    "slideshow": {
     "slide_type": "skip"
    }
   },
   "outputs": [],
   "source": [
    "# Sélection du sous-échantillon de travail que l'on appelle ages\n",
    "\n",
    "#On place les observations dans une variable\n",
    "#Tri des individus dans l'ordre croissant des valeurs de la variable, \n",
    "#Calcul de la somme cumulée et normalisation en divisant par la somme des observations\n"
   ]
  },
  {
   "cell_type": "code",
   "execution_count": 72,
   "id": "3179d235",
   "metadata": {
    "slideshow": {
     "slide_type": "subslide"
    }
   },
   "outputs": [
    {
     "data": {
      "image/png": "[encoded data removed]",
      "text/plain": [
       "<Figure size 1008x504 with 1 Axes>"
      ]
     },
     "metadata": {},
     "output_type": "display_data"
    }
   ],
   "source": [
    "#Courbe de Lorenz sur la variable des âges \n",
    "ages = df['age'].values\n",
    "lorenz_ages = np.cumsum(np.sort(ages)) / ages.sum()\n",
    "plt.plot(np.linspace(0,1,len(lorenz_ages)), lorenz_ages, drawstyle='steps-post', color='rosybrown', label='Lorenz')\n",
    "plt.fill_between(np.linspace(0,1,len(lorenz_ages)) ,lorenz_ages , color='#539ecd')\n",
    "plt.plot([0, 1], [0, 1], 'r-', lw=2, label='Distribution égalitaire')\n",
    "plt.vlines(x=.61, ymin=0, ymax=.5, color='blue', linestyle='--', linewidth=1, label='Medial')\n",
    "plt.hlines(xmin=.61, xmax=0, y=.5, color='blue', linestyle='--', linewidth=1)\n",
    "\n",
    "plt.title('Courbe de Lorenz des âges clients')\n",
    "plt.xlabel(\"Distribution des âges (%)\")\n",
    "plt.ylabel(\"Cumul des âges clients (%)\")\n",
    "\n",
    "plt.legend(loc=\"best\")\n",
    "plt.savefig(\"graphic/lorenz_age.png\")\n",
    "plt.show()"
   ]
  },
  {
   "cell_type": "markdown",
   "id": "da033067",
   "metadata": {
    "slideshow": {
     "slide_type": "subslide"
    }
   },
   "source": [
    "On constate qu'environ 61% des âges clients représentent 50% du montant total des âges. C'est une égalité quasi parfaite, et nous pouvons le confirmer avec l'indice de Gini."
   ]
  },
  {
   "cell_type": "code",
   "execution_count": 73,
   "id": "77ec7574",
   "metadata": {
    "slideshow": {
     "slide_type": "fragment"
    }
   },
   "outputs": [
    {
     "name": "stdout",
     "output_type": "stream",
     "text": [
      "L'indice de Gini est égal à 0.17\n"
     ]
    }
   ],
   "source": [
    "#Aire sous la courbe de Lorenz. La dernière valeur ne participe pas à l'aire, d'où \"[:-1]\"\n",
    "aire_ss_courbe_age = lorenz_ages[:-1].sum()/len(lorenz_ages) \n",
    "\n",
    "#Aire entre la 1e bissectrice et la courbe de Lorenz\n",
    "S = 0.5 - aire_ss_courbe_age\n",
    "gini_age = round(2*S, 2)\n",
    "\n",
    "print(\"L'indice de Gini est égal à {}\".format(gini_age))"
   ]
  },
  {
   "cell_type": "markdown",
   "id": "a38d99f1",
   "metadata": {
    "slideshow": {
     "slide_type": "fragment"
    }
   },
   "source": [
    "Confirmation avec l'indice de Gini très proche de 0, les âges clients sont bien répartis, quasiment égalitaire dans notre contexte."
   ]
  },
  {
   "cell_type": "markdown",
   "id": "ed641783",
   "metadata": {
    "slideshow": {
     "slide_type": "slide"
    }
   },
   "source": [
    "### La répartition Homme/Femme selon les catégories "
   ]
  },
  {
   "cell_type": "code",
   "execution_count": 74,
   "id": "d3034dac",
   "metadata": {
    "slideshow": {
     "slide_type": "skip"
    }
   },
   "outputs": [
    {
     "data": {
      "text/plain": [
       "m    329133\n",
       "f    327282\n",
       "Name: sex, dtype: int64"
      ]
     },
     "execution_count": 74,
     "metadata": {},
     "output_type": "execute_result"
    }
   ],
   "source": [
    "#Méthode .value_counts() pour avoir une idée rapide de la répartition homme/femme chez les clients\n",
    "df['sex'].value_counts()"
   ]
  },
  {
   "cell_type": "code",
   "execution_count": 75,
   "id": "7c085feb",
   "metadata": {
    "slideshow": {
     "slide_type": "skip"
    }
   },
   "outputs": [],
   "source": [
    "#Méthode .pivot_table() pour affiner davantage la répartition des hommes et des femmes selon la catégorie d'achat\n",
    "fm = df.pivot_table(index='sex', columns='categ', values='price', aggfunc=sum).reset_index()"
   ]
  },
  {
   "cell_type": "code",
   "execution_count": 76,
   "id": "bf3cffa4",
   "metadata": {
    "slideshow": {
     "slide_type": "slide"
    }
   },
   "outputs": [
    {
     "data": {
      "image/png": "[encoded data removed]",
      "text/plain": [
       "<Figure size 1008x504 with 1 Axes>"
      ]
     },
     "metadata": {},
     "output_type": "display_data"
    }
   ],
   "source": [
    "fm.plot(kind='bar', x='sex')\n",
    "\n",
    "plt.title('Répartition Hommes/Femmes selon les catégories')\n",
    "plt.xlabel('Sexe clients')\n",
    "plt.ylabel('Montant acheté')\n",
    "\n",
    "plt.savefig(\"graphic/sex_categ.png\")\n",
    "plt.show()"
   ]
  },
  {
   "cell_type": "markdown",
   "id": "3217f9ca",
   "metadata": {
    "slideshow": {
     "slide_type": "fragment"
    }
   },
   "source": [
    "L'échantillon étudié ressort avec une égalité quasi parfaite entre les hommes et les femmes."
   ]
  },
  {
   "cell_type": "markdown",
   "id": "f83635cb",
   "metadata": {
    "slideshow": {
     "slide_type": "slide"
    }
   },
   "source": [
    "## Analyse comportementale des clients"
   ]
  },
  {
   "cell_type": "markdown",
   "id": "37e7ffd6",
   "metadata": {
    "slideshow": {
     "slide_type": "fragment"
    }
   },
   "source": [
    "### > Analyse des transactions par client"
   ]
  },
  {
   "cell_type": "code",
   "execution_count": 77,
   "id": "fbf077bf",
   "metadata": {
    "slideshow": {
     "slide_type": "skip"
    }
   },
   "outputs": [
    {
     "data": {
      "text/html": [
       "<div>\n",
       "<style scoped>\n",
       "    .dataframe tbody tr th:only-of-type {\n",
       "        vertical-align: middle;\n",
       "    }\n",
       "\n",
       "    .dataframe tbody tr th {\n",
       "        vertical-align: top;\n",
       "    }\n",
       "\n",
       "    .dataframe thead th {\n",
       "        text-align: right;\n",
       "    }\n",
       "</style>\n",
       "<table border=\"1\" class=\"dataframe\">\n",
       "  <thead>\n",
       "    <tr style=\"text-align: right;\">\n",
       "      <th></th>\n",
       "      <th>client_id</th>\n",
       "      <th>nb_transac</th>\n",
       "    </tr>\n",
       "  </thead>\n",
       "  <tbody>\n",
       "    <tr>\n",
       "      <th>0</th>\n",
       "      <td>c_1</td>\n",
       "      <td>38</td>\n",
       "    </tr>\n",
       "    <tr>\n",
       "      <th>1</th>\n",
       "      <td>c_10</td>\n",
       "      <td>58</td>\n",
       "    </tr>\n",
       "    <tr>\n",
       "      <th>2</th>\n",
       "      <td>c_100</td>\n",
       "      <td>8</td>\n",
       "    </tr>\n",
       "    <tr>\n",
       "      <th>3</th>\n",
       "      <td>c_1000</td>\n",
       "      <td>122</td>\n",
       "    </tr>\n",
       "    <tr>\n",
       "      <th>4</th>\n",
       "      <td>c_1001</td>\n",
       "      <td>95</td>\n",
       "    </tr>\n",
       "  </tbody>\n",
       "</table>\n",
       "</div>"
      ],
      "text/plain": [
       "  client_id  nb_transac\n",
       "0       c_1          38\n",
       "1      c_10          58\n",
       "2     c_100           8\n",
       "3    c_1000         122\n",
       "4    c_1001          95"
      ]
     },
     "execution_count": 77,
     "metadata": {},
     "output_type": "execute_result"
    }
   ],
   "source": [
    "#Agrégation des modalités de la variable 'client_id' (méthode .groupby())\n",
    "#L'objectif est de comprendre l'action de ré-achat (ou non)des clients\n",
    "fid_client = df.groupby('client_id').count().reset_index()\n",
    "fid_client['nb_transac'] = fid_client.session_id\n",
    "fid_client = fid_client[['client_id', 'nb_transac']]\n",
    "fid_client.head()"
   ]
  },
  {
   "cell_type": "code",
   "execution_count": 78,
   "id": "d534abd0",
   "metadata": {
    "slideshow": {
     "slide_type": "skip"
    }
   },
   "outputs": [
    {
     "name": "stdout",
     "output_type": "stream",
     "text": [
      "8512\n"
     ]
    }
   ],
   "source": [
    "#Estimation des clients ayant passés plus d'une commande dans l'année\n",
    "a=fid_client[fid_client['nb_transac'] > 3].shape[0]\n",
    "print(a)"
   ]
  },
  {
   "cell_type": "code",
   "execution_count": 79,
   "id": "5cb1186f",
   "metadata": {
    "slideshow": {
     "slide_type": "skip"
    }
   },
   "outputs": [
    {
     "name": "stdout",
     "output_type": "stream",
     "text": [
      "86\n"
     ]
    }
   ],
   "source": [
    "#Estimation des clients ayant passés 2 commandes dans l'année\n",
    "b=fid_client[fid_client['nb_transac'] <= 3].shape[0]\n",
    "print(b)"
   ]
  },
  {
   "cell_type": "code",
   "execution_count": 80,
   "id": "d54f8eee",
   "metadata": {
    "slideshow": {
     "slide_type": "subslide"
    }
   },
   "outputs": [
    {
     "data": {
      "image/png": "[encoded data removed]",
      "text/plain": [
       "<Figure size 1008x432 with 1 Axes>"
      ]
     },
     "metadata": {},
     "output_type": "display_data"
    }
   ],
   "source": [
    "labels ='plus de troix commandes', 'moins de troix commande'\n",
    "data = [a,b] \n",
    "sizes = data\n",
    "explode = (0.1, 0.1)\n",
    "fig1, ax1 = plt.subplots(figsize=(14,6))\n",
    "ax1.pie(sizes, explode=explode, labels=labels, autopct='%1.1f%%', shadow=False, startangle=80)\n",
    "ax1.axis('equal') \n",
    "plt.title('ré-achat des clients')\n",
    "plt.savefig(\"graphic/ré-achat_des_clients.png\")\n",
    "plt.show()"
   ]
  },
  {
   "cell_type": "markdown",
   "id": "8e075039",
   "metadata": {
    "slideshow": {
     "slide_type": "fragment"
    }
   },
   "source": [
    "*Excellente fidélisation des clients qui n'hésitent pas à revenir pour un nouvel achat.*"
   ]
  },
  {
   "cell_type": "markdown",
   "id": "3fefe2fb",
   "metadata": {
    "slideshow": {
     "slide_type": "skip"
    }
   },
   "source": [
    "### > Analyse des centres d'intérêt client : \"Catégorie d'affinité\""
   ]
  },
  {
   "cell_type": "code",
   "execution_count": 81,
   "id": "9b83cfe4",
   "metadata": {
    "slideshow": {
     "slide_type": "skip"
    }
   },
   "outputs": [
    {
     "data": {
      "text/html": [
       "<div>\n",
       "<style scoped>\n",
       "    .dataframe tbody tr th:only-of-type {\n",
       "        vertical-align: middle;\n",
       "    }\n",
       "\n",
       "    .dataframe tbody tr th {\n",
       "        vertical-align: top;\n",
       "    }\n",
       "\n",
       "    .dataframe thead th {\n",
       "        text-align: right;\n",
       "    }\n",
       "</style>\n",
       "<table border=\"1\" class=\"dataframe\">\n",
       "  <thead>\n",
       "    <tr style=\"text-align: right;\">\n",
       "      <th></th>\n",
       "      <th>categ</th>\n",
       "      <th>price</th>\n",
       "    </tr>\n",
       "  </thead>\n",
       "  <tbody>\n",
       "    <tr>\n",
       "      <th>0</th>\n",
       "      <td>0.0</td>\n",
       "      <td>395961</td>\n",
       "    </tr>\n",
       "    <tr>\n",
       "      <th>1</th>\n",
       "      <td>1.0</td>\n",
       "      <td>225161</td>\n",
       "    </tr>\n",
       "    <tr>\n",
       "      <th>2</th>\n",
       "      <td>2.0</td>\n",
       "      <td>35293</td>\n",
       "    </tr>\n",
       "  </tbody>\n",
       "</table>\n",
       "</div>"
      ],
      "text/plain": [
       "   categ   price\n",
       "0    0.0  395961\n",
       "1    1.0  225161\n",
       "2    2.0   35293"
      ]
     },
     "execution_count": 81,
     "metadata": {},
     "output_type": "execute_result"
    }
   ],
   "source": [
    "#Analyse des quantités de produits vendus selon les catéories\n",
    "categ_prod = df.groupby('categ').price.count().reset_index()\n",
    "categ_prod"
   ]
  },
  {
   "cell_type": "code",
   "execution_count": 82,
   "id": "3809fe6a",
   "metadata": {
    "slideshow": {
     "slide_type": "skip"
    }
   },
   "outputs": [
    {
     "data": {
      "text/html": [
       "<div>\n",
       "<style scoped>\n",
       "    .dataframe tbody tr th:only-of-type {\n",
       "        vertical-align: middle;\n",
       "    }\n",
       "\n",
       "    .dataframe tbody tr th {\n",
       "        vertical-align: top;\n",
       "    }\n",
       "\n",
       "    .dataframe thead th {\n",
       "        text-align: right;\n",
       "    }\n",
       "</style>\n",
       "<table border=\"1\" class=\"dataframe\">\n",
       "  <thead>\n",
       "    <tr style=\"text-align: right;\">\n",
       "      <th></th>\n",
       "      <th>categ</th>\n",
       "      <th>price</th>\n",
       "    </tr>\n",
       "  </thead>\n",
       "  <tbody>\n",
       "    <tr>\n",
       "      <th>0</th>\n",
       "      <td>0.0</td>\n",
       "      <td>4.214242e+06</td>\n",
       "    </tr>\n",
       "    <tr>\n",
       "      <th>1</th>\n",
       "      <td>1.0</td>\n",
       "      <td>4.613040e+06</td>\n",
       "    </tr>\n",
       "    <tr>\n",
       "      <th>2</th>\n",
       "      <td>2.0</td>\n",
       "      <td>2.691256e+06</td>\n",
       "    </tr>\n",
       "  </tbody>\n",
       "</table>\n",
       "</div>"
      ],
      "text/plain": [
       "   categ         price\n",
       "0    0.0  4.214242e+06\n",
       "1    1.0  4.613040e+06\n",
       "2    2.0  2.691256e+06"
      ]
     },
     "execution_count": 82,
     "metadata": {},
     "output_type": "execute_result"
    }
   ],
   "source": [
    "#Analyse du chiffre d'affaires selon les catégories\n",
    "categ_sales = df.groupby('categ').price.sum().reset_index()\n",
    "categ_sales"
   ]
  },
  {
   "cell_type": "markdown",
   "id": "8ff04675",
   "metadata": {
    "slideshow": {
     "slide_type": "skip"
    }
   },
   "source": [
    "*La catégorie 2 ressort moins populaire que les deux autres, moins de quantités vendues, moins de chiffre d'affaires, mais un panier moyen qui reste beaucoup plus élevé.*"
   ]
  },
  {
   "cell_type": "markdown",
   "id": "23cf7a2e",
   "metadata": {
    "slideshow": {
     "slide_type": "slide"
    }
   },
   "source": [
    "L'analyse va se poursuivre sur l'étude des liens éventuels entre les précédentes variables. L'enjeu est de comprendre les corrélations possibles ou non, de manière à pouvoir tirer des conclusions qui mènera l'entreprise à prendre des décisions stratégiques."
   ]
  },
  {
   "cell_type": "markdown",
   "id": "f7fea259",
   "metadata": {
    "slideshow": {
     "slide_type": "slide"
    }
   },
   "source": [
    "# Mission 3 : les corrélations…\n",
    "**Les corrélations indiquent si deux variables sont linéairement équivalentes.**\n",
    "\n",
    "Voici quelques questions supplémentaires pour nous aider à mieux comprendre les ventes enregistrées.\n",
    "\n",
    "- Y a-t-il une corrélation entre le sexe des clients et les catégories de produits achetés ?\n",
    "- Y a-t-il une corrélation entre l'âge des clients et le montant total des achats ?\n",
    "- Y a-t-il une corrélation entre l'âge des clients et la fréquence d’achat (nombre d'achats par mois) ?\n",
    "- Y a-t-il une corrélation entre l'âge des clients et la taille du panier moyen (en nombre d’articles) ?\n",
    "- Y a-t-il une corrélation entre l'âge des clients et les catégories de produits achetés ?\n",
    "\n",
    "**Un peu de théorie :**\n",
    "\n",
    "Pour reprendre la définition de *Wikipédia* que je trouve plutôt bien trouvée : \n",
    "\n",
    "\"En probabilités et en statistique, la corrélation entre plusieurs variables aléatoires ou statistiques est une notion de liaison qui contredit leur indépendance.\""
   ]
  },
  {
   "cell_type": "markdown",
   "id": "27d05815",
   "metadata": {
    "slideshow": {
     "slide_type": "slide"
    }
   },
   "source": [
    "## Première approche des corrélations sur l'ensemble de nos variables numériques"
   ]
  },
  {
   "cell_type": "code",
   "execution_count": 83,
   "id": "c5e98e66",
   "metadata": {
    "slideshow": {
     "slide_type": "skip"
    }
   },
   "outputs": [
    {
     "data": {
      "text/html": [
       "<div>\n",
       "<style scoped>\n",
       "    .dataframe tbody tr th:only-of-type {\n",
       "        vertical-align: middle;\n",
       "    }\n",
       "\n",
       "    .dataframe tbody tr th {\n",
       "        vertical-align: top;\n",
       "    }\n",
       "\n",
       "    .dataframe thead th {\n",
       "        text-align: right;\n",
       "    }\n",
       "</style>\n",
       "<table border=\"1\" class=\"dataframe\">\n",
       "  <thead>\n",
       "    <tr style=\"text-align: right;\">\n",
       "      <th></th>\n",
       "      <th>birth</th>\n",
       "      <th>price</th>\n",
       "      <th>categ</th>\n",
       "      <th>age</th>\n",
       "    </tr>\n",
       "  </thead>\n",
       "  <tbody>\n",
       "    <tr>\n",
       "      <th>birth</th>\n",
       "      <td>1.000000</td>\n",
       "      <td>0.208823</td>\n",
       "      <td>0.097365</td>\n",
       "      <td>-1.000000</td>\n",
       "    </tr>\n",
       "    <tr>\n",
       "      <th>price</th>\n",
       "      <td>0.208823</td>\n",
       "      <td>1.000000</td>\n",
       "      <td>0.669576</td>\n",
       "      <td>-0.208823</td>\n",
       "    </tr>\n",
       "    <tr>\n",
       "      <th>categ</th>\n",
       "      <td>0.097365</td>\n",
       "      <td>0.669576</td>\n",
       "      <td>1.000000</td>\n",
       "      <td>-0.097365</td>\n",
       "    </tr>\n",
       "    <tr>\n",
       "      <th>age</th>\n",
       "      <td>-1.000000</td>\n",
       "      <td>-0.208823</td>\n",
       "      <td>-0.097365</td>\n",
       "      <td>1.000000</td>\n",
       "    </tr>\n",
       "  </tbody>\n",
       "</table>\n",
       "</div>"
      ],
      "text/plain": [
       "          birth     price     categ       age\n",
       "birth  1.000000  0.208823  0.097365 -1.000000\n",
       "price  0.208823  1.000000  0.669576 -0.208823\n",
       "categ  0.097365  0.669576  1.000000 -0.097365\n",
       "age   -1.000000 -0.208823 -0.097365  1.000000"
      ]
     },
     "execution_count": 83,
     "metadata": {},
     "output_type": "execute_result"
    }
   ],
   "source": [
    "#Utilisation de la méthode .corr()\n",
    "df.corr().head()"
   ]
  },
  {
   "cell_type": "code",
   "execution_count": 84,
   "id": "0a831872",
   "metadata": {
    "slideshow": {
     "slide_type": "fragment"
    }
   },
   "outputs": [
    {
     "data": {
      "image/png": "[encoded data removed]",
      "text/plain": [
       "<Figure size 1008x504 with 2 Axes>"
      ]
     },
     "metadata": {},
     "output_type": "display_data"
    }
   ],
   "source": [
    "#Méthode .corr() avec par défaut la formule de la corrélation linéaire de Pearson\n",
    "sns.heatmap(df.corr(), annot=True, fmt=\".1f\", cmap='Greens')\n",
    "plt.title('Corrélation HeatMap de quelques variables')\n",
    "plt.savefig(\"graphic/heatmap_global.png\")\n",
    "plt.show()"
   ]
  },
  {
   "cell_type": "markdown",
   "id": "1e400938",
   "metadata": {
    "slideshow": {
     "slide_type": "subslide"
    }
   },
   "source": [
    "*Cet HeatMap renvoie une première image des possibles corrélations linéaires. Par exemple, les prix produits / catégories sont fortement corrélés. Dans notre contexte cette analyse se révèle trop succincte, d'autres tests doivent-être menés au cas par cas…*"
   ]
  },
  {
   "cell_type": "markdown",
   "id": "0c4fc1ed",
   "metadata": {
    "slideshow": {
     "slide_type": "slide"
    }
   },
   "source": [
    "## Analyse de la corrélation entre le genre des clients et les catégories de produits achetés"
   ]
  },
  {
   "cell_type": "code",
   "execution_count": 85,
   "id": "296832cd",
   "metadata": {
    "slideshow": {
     "slide_type": "skip"
    }
   },
   "outputs": [
    {
     "data": {
      "text/html": [
       "<div>\n",
       "<style scoped>\n",
       "    .dataframe tbody tr th:only-of-type {\n",
       "        vertical-align: middle;\n",
       "    }\n",
       "\n",
       "    .dataframe tbody tr th {\n",
       "        vertical-align: top;\n",
       "    }\n",
       "\n",
       "    .dataframe thead th {\n",
       "        text-align: right;\n",
       "    }\n",
       "</style>\n",
       "<table border=\"1\" class=\"dataframe\">\n",
       "  <thead>\n",
       "    <tr style=\"text-align: right;\">\n",
       "      <th>categ</th>\n",
       "      <th>0.0</th>\n",
       "      <th>1.0</th>\n",
       "      <th>2.0</th>\n",
       "    </tr>\n",
       "    <tr>\n",
       "      <th>sex</th>\n",
       "      <th></th>\n",
       "      <th></th>\n",
       "      <th></th>\n",
       "    </tr>\n",
       "  </thead>\n",
       "  <tbody>\n",
       "    <tr>\n",
       "      <th>f</th>\n",
       "      <td>196643</td>\n",
       "      <td>113927</td>\n",
       "      <td>16712</td>\n",
       "    </tr>\n",
       "    <tr>\n",
       "      <th>m</th>\n",
       "      <td>199318</td>\n",
       "      <td>111234</td>\n",
       "      <td>18581</td>\n",
       "    </tr>\n",
       "  </tbody>\n",
       "</table>\n",
       "</div>"
      ],
      "text/plain": [
       "categ     0.0     1.0    2.0\n",
       "sex                         \n",
       "f      196643  113927  16712\n",
       "m      199318  111234  18581"
      ]
     },
     "execution_count": 85,
     "metadata": {},
     "output_type": "execute_result"
    }
   ],
   "source": [
    "#Création du tableau de contingence \"Matrice des valeurs observées\"\n",
    "#Variables 'sex' et 'categ' du dataframe df\n",
    "X = 'sex'\n",
    "Y = 'categ'\n",
    "\n",
    "#Calcul du tableau de contigence par la méthode .pivot_table()\n",
    "c = df[[X, Y]].pivot_table(index=X, columns=Y, aggfunc=len) ###, margins=True, margins_name='Total'\n",
    "tx = df[X].value_counts()\n",
    "ty = df[Y].value_counts()\n",
    "\n",
    "#Création d'une copie du dataframe original\n",
    "cont = c.copy()\n",
    "cont"
   ]
  },
  {
   "cell_type": "code",
   "execution_count": 86,
   "id": "6eced04f",
   "metadata": {
    "slideshow": {
     "slide_type": "skip"
    }
   },
   "outputs": [
    {
     "data": {
      "text/html": [
       "<div>\n",
       "<style scoped>\n",
       "    .dataframe tbody tr th:only-of-type {\n",
       "        vertical-align: middle;\n",
       "    }\n",
       "\n",
       "    .dataframe tbody tr th {\n",
       "        vertical-align: top;\n",
       "    }\n",
       "\n",
       "    .dataframe thead th {\n",
       "        text-align: right;\n",
       "    }\n",
       "</style>\n",
       "<table border=\"1\" class=\"dataframe\">\n",
       "  <thead>\n",
       "    <tr style=\"text-align: right;\">\n",
       "      <th></th>\n",
       "      <th>0.0</th>\n",
       "      <th>1.0</th>\n",
       "      <th>2.0</th>\n",
       "    </tr>\n",
       "  </thead>\n",
       "  <tbody>\n",
       "    <tr>\n",
       "      <th>m</th>\n",
       "      <td>198538.777775</td>\n",
       "      <td>112897.961523</td>\n",
       "      <td>17696.260702</td>\n",
       "    </tr>\n",
       "    <tr>\n",
       "      <th>f</th>\n",
       "      <td>197422.222225</td>\n",
       "      <td>112263.038477</td>\n",
       "      <td>17596.739298</td>\n",
       "    </tr>\n",
       "  </tbody>\n",
       "</table>\n",
       "</div>"
      ],
      "text/plain": [
       "             0.0            1.0           2.0\n",
       "m  198538.777775  112897.961523  17696.260702\n",
       "f  197422.222225  112263.038477  17596.739298"
      ]
     },
     "execution_count": 86,
     "metadata": {},
     "output_type": "execute_result"
    }
   ],
   "source": [
    "#Création du tableau théorique \"Matrice des valeurs attendues\"\n",
    "#L’occurrence attendue est simplement la fréquence que l’on devrait trouver dans une cellule \n",
    "#si l’hypothèse nulle était vraie.\n",
    "tx_df= pd.DataFrame(tx)\n",
    "ty_df = pd.DataFrame(ty)\n",
    "\n",
    "tx_df.columns = [\"s\"]\n",
    "ty_df.columns = [\"s\"]\n",
    "\n",
    "#Valeurs totales observées\n",
    "n = len(df)\n",
    "\n",
    "#Produit matriciel. On utilise pd.T pour pivoter une des deux séries.\n",
    "indep = (tx_df.dot(ty_df.T) / n)\n",
    "indep"
   ]
  },
  {
   "cell_type": "code",
   "execution_count": 87,
   "id": "a97f4cf3",
   "metadata": {
    "scrolled": false,
    "slideshow": {
     "slide_type": "skip"
    }
   },
   "outputs": [
    {
     "data": {
      "text/html": [
       "<div>\n",
       "<style scoped>\n",
       "    .dataframe tbody tr th:only-of-type {\n",
       "        vertical-align: middle;\n",
       "    }\n",
       "\n",
       "    .dataframe tbody tr th {\n",
       "        vertical-align: top;\n",
       "    }\n",
       "\n",
       "    .dataframe thead th {\n",
       "        text-align: right;\n",
       "    }\n",
       "</style>\n",
       "<table border=\"1\" class=\"dataframe\">\n",
       "  <thead>\n",
       "    <tr style=\"text-align: right;\">\n",
       "      <th>categ</th>\n",
       "      <th>0.0</th>\n",
       "      <th>1.0</th>\n",
       "      <th>2.0</th>\n",
       "    </tr>\n",
       "  </thead>\n",
       "  <tbody>\n",
       "    <tr>\n",
       "      <th>f</th>\n",
       "      <td>3.075577</td>\n",
       "      <td>24.663219</td>\n",
       "      <td>44.483447</td>\n",
       "    </tr>\n",
       "    <tr>\n",
       "      <th>m</th>\n",
       "      <td>3.058281</td>\n",
       "      <td>24.524517</td>\n",
       "      <td>44.233278</td>\n",
       "    </tr>\n",
       "  </tbody>\n",
       "</table>\n",
       "</div>"
      ],
      "text/plain": [
       "categ       0.0        1.0        2.0\n",
       "f      3.075577  24.663219  44.483447\n",
       "m      3.058281  24.524517  44.233278"
      ]
     },
     "execution_count": 87,
     "metadata": {},
     "output_type": "execute_result"
    }
   ],
   "source": [
    "#Matrice \"écart au carré normalisé de la valeur attendue VS valeur observée\"\n",
    "mesure = (c-indep)**2/indep\n",
    "mesure"
   ]
  },
  {
   "cell_type": "code",
   "execution_count": 88,
   "id": "3faa7b2b",
   "metadata": {
    "slideshow": {
     "slide_type": "skip"
    }
   },
   "outputs": [
    {
     "data": {
      "text/plain": [
       "144.0383194139693"
      ]
     },
     "execution_count": 88,
     "metadata": {},
     "output_type": "execute_result"
    }
   ],
   "source": [
    "#Calcul du Chi2\n",
    "#Tester l’hypothèse nulle consiste à comparer les occurrences observées (celles déjà dans le tableau) \n",
    "#avec les occurrences attendues.\n",
    "chi2 = mesure.sum().sum()\n",
    "chi2"
   ]
  },
  {
   "cell_type": "code",
   "execution_count": 89,
   "id": "b50ef162",
   "metadata": {
    "slideshow": {
     "slide_type": "slide"
    }
   },
   "outputs": [
    {
     "data": {
      "image/png": "[encoded data removed]",
      "text/plain": [
       "<Figure size 1008x504 with 2 Axes>"
      ]
     },
     "metadata": {},
     "output_type": "display_data"
    }
   ],
   "source": [
    "#HeatMap \n",
    "table = (mesure/chi2)\n",
    "sns.heatmap(table, annot=True, cmap=\"plasma\", linewidths=0.1)\n",
    "\n",
    "plt.title('HeatMap Sexe clients vs Catégorie produits')\n",
    "plt.xlabel('Categ.')\n",
    "plt.ylabel('Sexe')\n",
    "\n",
    "plt.savefig(\"graphic/heatmap_sexe_categories.png\")\n",
    "plt.show()"
   ]
  },
  {
   "cell_type": "markdown",
   "id": "7120c50e",
   "metadata": {
    "slideshow": {
     "slide_type": "skip"
    }
   },
   "source": [
    "Le test de Chi2 est utilisé pour tester l'hypothèse nulle (H0) d'absence de relation entre deux variables catégorielles, ce test vérifie donc l'hypothèse d'indépendance de ces variables.\n",
    "\n",
    "La valeur de Chi2 est une quantification de cet écart (entre les occurences attendues et celles observées). Plus la valeur sera élevée, plus l'écart entre l'hypothèse nulle et la situation réelle sera grand.\n",
    "\n",
    "Plus l’occurrence observée est près de l’occurrence attendue, plus la fraction calculée pour chaque cellule est petite et moins l’écart avec H0 est grand."
   ]
  },
  {
   "cell_type": "markdown",
   "id": "73462adc",
   "metadata": {
    "slideshow": {
     "slide_type": "slide"
    }
   },
   "source": [
    "## test de normalité shapiro\n",
    "\n",
    "Un point de décision important lorsque l'on travaille avec un échantillon de données est de savoir s'il faut utiliser des méthodes statistiques paramétriques (en cas ou les donnée sont gaussienne) ou non paramétriques (non gaussienne)."
   ]
  },
  {
   "cell_type": "code",
   "execution_count": 90,
   "id": "18763dd7",
   "metadata": {
    "slideshow": {
     "slide_type": "subslide"
    }
   },
   "outputs": [
    {
     "data": {
      "text/plain": [
       "(144.0383194139693, 2, 5.278084610943292e-32)"
      ]
     },
     "execution_count": 90,
     "metadata": {},
     "output_type": "execute_result"
    }
   ],
   "source": [
    "#Calcul du khi2 et de la p-value à partir de la matrice des valeurs observées avec scipy \n",
    "#Degré de liberté = (nombre de lignes – 1) X (nombre de colonnes – 1)\n",
    "chi2, pvalue, degrees, expected = st.chi2_contingency(cont)\n",
    "chi2, degrees, pvalue"
   ]
  },
  {
   "cell_type": "code",
   "execution_count": 91,
   "id": "99d99960",
   "metadata": {
    "slideshow": {
     "slide_type": "fragment"
    }
   },
   "outputs": [
    {
     "data": {
      "text/plain": [
       "ShapiroResult(statistic=0.863050639629364, pvalue=0.1998804807662964)"
      ]
     },
     "execution_count": 91,
     "metadata": {},
     "output_type": "execute_result"
    }
   ],
   "source": [
    "sp = st.shapiro(cont)\n",
    "sp"
   ]
  },
  {
   "cell_type": "markdown",
   "id": "9b98dc42",
   "metadata": {
    "slideshow": {
     "slide_type": "fragment"
    }
   },
   "source": [
    "L'indice élevé du Chi2 démontre une importance significative entre les occurences théoriques et celles du tableau de contigence. De plus, la comparaison de p-value (4e-16%) avec notre seuil de significativité (traditionnellement 5%) expose une valeur inférieure au seuil. L'hypothèse nulle est rejetée en faveur de l’hypothèse alternative, il existe donc un lien entre le sexe des clients et les catégories produits."
   ]
  },
  {
   "cell_type": "markdown",
   "id": "6d80c5ea",
   "metadata": {
    "slideshow": {
     "slide_type": "slide"
    }
   },
   "source": [
    "## Analyse de la corrélation entre l'âge clients et le montant total des achats"
   ]
  },
  {
   "cell_type": "code",
   "execution_count": 92,
   "id": "800a26ca",
   "metadata": {
    "slideshow": {
     "slide_type": "skip"
    }
   },
   "outputs": [
    {
     "data": {
      "text/html": [
       "<div>\n",
       "<style scoped>\n",
       "    .dataframe tbody tr th:only-of-type {\n",
       "        vertical-align: middle;\n",
       "    }\n",
       "\n",
       "    .dataframe tbody tr th {\n",
       "        vertical-align: top;\n",
       "    }\n",
       "\n",
       "    .dataframe thead th {\n",
       "        text-align: right;\n",
       "    }\n",
       "</style>\n",
       "<table border=\"1\" class=\"dataframe\">\n",
       "  <thead>\n",
       "    <tr style=\"text-align: right;\">\n",
       "      <th></th>\n",
       "      <th>age</th>\n",
       "      <th>price</th>\n",
       "    </tr>\n",
       "  </thead>\n",
       "  <tbody>\n",
       "    <tr>\n",
       "      <th>75</th>\n",
       "      <td>93</td>\n",
       "      <td>3.197080</td>\n",
       "    </tr>\n",
       "    <tr>\n",
       "      <th>74</th>\n",
       "      <td>92</td>\n",
       "      <td>3.959240</td>\n",
       "    </tr>\n",
       "    <tr>\n",
       "      <th>73</th>\n",
       "      <td>91</td>\n",
       "      <td>2.691190</td>\n",
       "    </tr>\n",
       "    <tr>\n",
       "      <th>72</th>\n",
       "      <td>90</td>\n",
       "      <td>4.803640</td>\n",
       "    </tr>\n",
       "    <tr>\n",
       "      <th>71</th>\n",
       "      <td>89</td>\n",
       "      <td>5.093415</td>\n",
       "    </tr>\n",
       "  </tbody>\n",
       "</table>\n",
       "</div>"
      ],
      "text/plain": [
       "    age     price\n",
       "75   93  3.197080\n",
       "74   92  3.959240\n",
       "73   91  2.691190\n",
       "72   90  4.803640\n",
       "71   89  5.093415"
      ]
     },
     "execution_count": 92,
     "metadata": {},
     "output_type": "execute_result"
    }
   ],
   "source": [
    "#Agrégation pour sommer les ventes 'price' (produits achetés) en fonction de l'âge des clients\n",
    "#Création d'une variable 'age_price'\n",
    "age_price = df.groupby('age').sum().reset_index()\n",
    "age_price = age_price[['age', 'price']].sort_values(by='age', ascending=False) \n",
    "age_price['price'] = age_price['price'] / 1000 #Valeurs exprimées en K€\n",
    "\n",
    "age_price.head() #Apperçu des données âges / ventes"
   ]
  },
  {
   "cell_type": "code",
   "execution_count": 93,
   "id": "b7a6e15f",
   "metadata": {
    "slideshow": {
     "slide_type": "skip"
    }
   },
   "outputs": [
    {
     "data": {
      "text/html": [
       "<div>\n",
       "<style scoped>\n",
       "    .dataframe tbody tr th:only-of-type {\n",
       "        vertical-align: middle;\n",
       "    }\n",
       "\n",
       "    .dataframe tbody tr th {\n",
       "        vertical-align: top;\n",
       "    }\n",
       "\n",
       "    .dataframe thead th {\n",
       "        text-align: right;\n",
       "    }\n",
       "</style>\n",
       "<table border=\"1\" class=\"dataframe\">\n",
       "  <thead>\n",
       "    <tr style=\"text-align: right;\">\n",
       "      <th></th>\n",
       "      <th>age</th>\n",
       "      <th>price</th>\n",
       "    </tr>\n",
       "  </thead>\n",
       "  <tbody>\n",
       "    <tr>\n",
       "      <th>4</th>\n",
       "      <td>22</td>\n",
       "      <td>160.538290</td>\n",
       "    </tr>\n",
       "    <tr>\n",
       "      <th>3</th>\n",
       "      <td>21</td>\n",
       "      <td>174.222150</td>\n",
       "    </tr>\n",
       "    <tr>\n",
       "      <th>2</th>\n",
       "      <td>20</td>\n",
       "      <td>178.430284</td>\n",
       "    </tr>\n",
       "    <tr>\n",
       "      <th>1</th>\n",
       "      <td>19</td>\n",
       "      <td>172.804760</td>\n",
       "    </tr>\n",
       "    <tr>\n",
       "      <th>0</th>\n",
       "      <td>18</td>\n",
       "      <td>591.017020</td>\n",
       "    </tr>\n",
       "  </tbody>\n",
       "</table>\n",
       "</div>"
      ],
      "text/plain": [
       "   age       price\n",
       "4   22  160.538290\n",
       "3   21  174.222150\n",
       "2   20  178.430284\n",
       "1   19  172.804760\n",
       "0   18  591.017020"
      ]
     },
     "execution_count": 93,
     "metadata": {},
     "output_type": "execute_result"
    }
   ],
   "source": [
    "age_price.tail()"
   ]
  },
  {
   "cell_type": "code",
   "execution_count": 94,
   "id": "e73f07f3",
   "metadata": {
    "scrolled": false,
    "slideshow": {
     "slide_type": "fragment"
    }
   },
   "outputs": [
    {
     "data": {
      "image/png": "[encoded data removed]",
      "text/plain": [
       "<Figure size 1008x504 with 1 Axes>"
      ]
     },
     "metadata": {},
     "output_type": "display_data"
    }
   ],
   "source": [
    "#Visualisation avec un scatterplot (âge clients vs montant total des achats)\n",
    "plt.plot(age_price[age_price.price < 200].age, age_price[age_price.price < 200].price, 'o', color='green')\n",
    "plt.xlabel('age')\n",
    "plt.ylabel('Montant achat (K€)')\n",
    "plt.title('Montant Total des achats selon l\\'âge du client')\n",
    "plt.savefig(\"graphic/scatterplot_montant_achat_age_client.png\")\n",
    "plt.show()"
   ]
  },
  {
   "cell_type": "code",
   "execution_count": 95,
   "id": "46e588ce",
   "metadata": {
    "slideshow": {
     "slide_type": "fragment"
    }
   },
   "outputs": [
    {
     "data": {
      "text/plain": [
       "-0.7793059701236267"
      ]
     },
     "execution_count": 95,
     "metadata": {},
     "output_type": "execute_result"
    }
   ],
   "source": [
    "#Coefficient de corrélation linéaire de Pearson\n",
    "coef_age_price = st.pearsonr(age_price.age, age_price.price)[0]\n",
    "coef_age_price"
   ]
  },
  {
   "cell_type": "markdown",
   "id": "a9e3a62c",
   "metadata": {
    "slideshow": {
     "slide_type": "slide"
    }
   },
   "source": [
    "Le coefficient est négatif par conséquent, on peut émettre l'hypothèse que plus les consommateurs sont agés plus le montant total de leur achat est faible. Or le coefficient est plus proche de -1 que de zéro. Par conséquent, on peut affirmer que plus les consommateurs sont agés plus le montant total de leur achat est faible.(forte correlation)"
   ]
  },
  {
   "cell_type": "markdown",
   "id": "88d11dda",
   "metadata": {
    "slideshow": {
     "slide_type": "slide"
    }
   },
   "source": [
    "## Analyse de la corrélation entre l'âge clients et la fréquence d'achat\n",
    "Ici la fréquence d'achat correspond au nombre d'achats par mois"
   ]
  },
  {
   "cell_type": "code",
   "execution_count": 96,
   "id": "df0eea9c",
   "metadata": {
    "slideshow": {
     "slide_type": "skip"
    }
   },
   "outputs": [
    {
     "data": {
      "text/html": [
       "<div>\n",
       "<style scoped>\n",
       "    .dataframe tbody tr th:only-of-type {\n",
       "        vertical-align: middle;\n",
       "    }\n",
       "\n",
       "    .dataframe tbody tr th {\n",
       "        vertical-align: top;\n",
       "    }\n",
       "\n",
       "    .dataframe thead th {\n",
       "        text-align: right;\n",
       "    }\n",
       "</style>\n",
       "<table border=\"1\" class=\"dataframe\">\n",
       "  <thead>\n",
       "    <tr style=\"text-align: right;\">\n",
       "      <th></th>\n",
       "      <th>client_id</th>\n",
       "      <th>sex</th>\n",
       "      <th>birth</th>\n",
       "      <th>id_prod</th>\n",
       "      <th>date</th>\n",
       "      <th>session_id</th>\n",
       "      <th>price</th>\n",
       "      <th>categ</th>\n",
       "      <th>age</th>\n",
       "    </tr>\n",
       "  </thead>\n",
       "  <tbody>\n",
       "    <tr>\n",
       "      <th>0</th>\n",
       "      <td>c_4410</td>\n",
       "      <td>f</td>\n",
       "      <td>1967</td>\n",
       "      <td>0_1316</td>\n",
       "      <td>2021-12-29 09:11:18.860592</td>\n",
       "      <td>s_141762</td>\n",
       "      <td>7.20</td>\n",
       "      <td>0.0</td>\n",
       "      <td>55</td>\n",
       "    </tr>\n",
       "    <tr>\n",
       "      <th>1</th>\n",
       "      <td>c_4410</td>\n",
       "      <td>f</td>\n",
       "      <td>1967</td>\n",
       "      <td>1_385</td>\n",
       "      <td>2021-03-22 01:40:22.782925</td>\n",
       "      <td>s_9707</td>\n",
       "      <td>25.99</td>\n",
       "      <td>1.0</td>\n",
       "      <td>55</td>\n",
       "    </tr>\n",
       "    <tr>\n",
       "      <th>2</th>\n",
       "      <td>c_4410</td>\n",
       "      <td>f</td>\n",
       "      <td>1967</td>\n",
       "      <td>1_190</td>\n",
       "      <td>2021-11-12 18:11:43.280574</td>\n",
       "      <td>s_118628</td>\n",
       "      <td>14.53</td>\n",
       "      <td>1.0</td>\n",
       "      <td>55</td>\n",
       "    </tr>\n",
       "    <tr>\n",
       "      <th>3</th>\n",
       "      <td>c_4410</td>\n",
       "      <td>f</td>\n",
       "      <td>1967</td>\n",
       "      <td>0_1455</td>\n",
       "      <td>2021-03-22 14:29:25.189266</td>\n",
       "      <td>s_9942</td>\n",
       "      <td>8.99</td>\n",
       "      <td>0.0</td>\n",
       "      <td>55</td>\n",
       "    </tr>\n",
       "    <tr>\n",
       "      <th>4</th>\n",
       "      <td>c_4410</td>\n",
       "      <td>f</td>\n",
       "      <td>1967</td>\n",
       "      <td>1_483</td>\n",
       "      <td>2022-03-13 21:35:55.949042</td>\n",
       "      <td>s_178686</td>\n",
       "      <td>15.99</td>\n",
       "      <td>1.0</td>\n",
       "      <td>55</td>\n",
       "    </tr>\n",
       "  </tbody>\n",
       "</table>\n",
       "</div>"
      ],
      "text/plain": [
       "  client_id sex  birth id_prod                       date session_id  price  \\\n",
       "0    c_4410   f   1967  0_1316 2021-12-29 09:11:18.860592   s_141762   7.20   \n",
       "1    c_4410   f   1967   1_385 2021-03-22 01:40:22.782925     s_9707  25.99   \n",
       "2    c_4410   f   1967   1_190 2021-11-12 18:11:43.280574   s_118628  14.53   \n",
       "3    c_4410   f   1967  0_1455 2021-03-22 14:29:25.189266     s_9942   8.99   \n",
       "4    c_4410   f   1967   1_483 2022-03-13 21:35:55.949042   s_178686  15.99   \n",
       "\n",
       "   categ  age  \n",
       "0    0.0   55  \n",
       "1    1.0   55  \n",
       "2    1.0   55  \n",
       "3    0.0   55  \n",
       "4    1.0   55  "
      ]
     },
     "execution_count": 96,
     "metadata": {},
     "output_type": "execute_result"
    }
   ],
   "source": [
    "#Analyse faite à partir du dataframe global df\n",
    "df.head()"
   ]
  },
  {
   "cell_type": "code",
   "execution_count": 97,
   "id": "e3fd759e",
   "metadata": {
    "slideshow": {
     "slide_type": "skip"
    }
   },
   "outputs": [
    {
     "data": {
      "text/html": [
       "<div>\n",
       "<style scoped>\n",
       "    .dataframe tbody tr th:only-of-type {\n",
       "        vertical-align: middle;\n",
       "    }\n",
       "\n",
       "    .dataframe tbody tr th {\n",
       "        vertical-align: top;\n",
       "    }\n",
       "\n",
       "    .dataframe thead th {\n",
       "        text-align: right;\n",
       "    }\n",
       "</style>\n",
       "<table border=\"1\" class=\"dataframe\">\n",
       "  <thead>\n",
       "    <tr style=\"text-align: right;\">\n",
       "      <th></th>\n",
       "      <th>age</th>\n",
       "      <th>session_id</th>\n",
       "      <th>f</th>\n",
       "    </tr>\n",
       "  </thead>\n",
       "  <tbody>\n",
       "    <tr>\n",
       "      <th>75</th>\n",
       "      <td>93</td>\n",
       "      <td>199</td>\n",
       "      <td>0.000303</td>\n",
       "    </tr>\n",
       "    <tr>\n",
       "      <th>74</th>\n",
       "      <td>92</td>\n",
       "      <td>222</td>\n",
       "      <td>0.000338</td>\n",
       "    </tr>\n",
       "    <tr>\n",
       "      <th>73</th>\n",
       "      <td>91</td>\n",
       "      <td>164</td>\n",
       "      <td>0.000250</td>\n",
       "    </tr>\n",
       "    <tr>\n",
       "      <th>72</th>\n",
       "      <td>90</td>\n",
       "      <td>293</td>\n",
       "      <td>0.000446</td>\n",
       "    </tr>\n",
       "    <tr>\n",
       "      <th>71</th>\n",
       "      <td>89</td>\n",
       "      <td>314</td>\n",
       "      <td>0.000478</td>\n",
       "    </tr>\n",
       "    <tr>\n",
       "      <th>70</th>\n",
       "      <td>88</td>\n",
       "      <td>536</td>\n",
       "      <td>0.000817</td>\n",
       "    </tr>\n",
       "    <tr>\n",
       "      <th>69</th>\n",
       "      <td>87</td>\n",
       "      <td>260</td>\n",
       "      <td>0.000396</td>\n",
       "    </tr>\n",
       "    <tr>\n",
       "      <th>68</th>\n",
       "      <td>86</td>\n",
       "      <td>749</td>\n",
       "      <td>0.001141</td>\n",
       "    </tr>\n",
       "    <tr>\n",
       "      <th>67</th>\n",
       "      <td>85</td>\n",
       "      <td>922</td>\n",
       "      <td>0.001405</td>\n",
       "    </tr>\n",
       "    <tr>\n",
       "      <th>66</th>\n",
       "      <td>84</td>\n",
       "      <td>819</td>\n",
       "      <td>0.001248</td>\n",
       "    </tr>\n",
       "  </tbody>\n",
       "</table>\n",
       "</div>"
      ],
      "text/plain": [
       "    age  session_id         f\n",
       "75   93         199  0.000303\n",
       "74   92         222  0.000338\n",
       "73   91         164  0.000250\n",
       "72   90         293  0.000446\n",
       "71   89         314  0.000478\n",
       "70   88         536  0.000817\n",
       "69   87         260  0.000396\n",
       "68   86         749  0.001141\n",
       "67   85         922  0.001405\n",
       "66   84         819  0.001248"
      ]
     },
     "execution_count": 97,
     "metadata": {},
     "output_type": "execute_result"
    }
   ],
   "source": [
    "#Agrégation des données selon l'âge client\n",
    "#Le nombre d'achat mensuel est obtenu à partir du comptage des sessions clients par mois\n",
    "#Hypothèse 1 id_session = 1 transation\n",
    "customers_freq = df.groupby('age').count().reset_index()\n",
    "customers_freq = customers_freq[['age', 'session_id']]\n",
    "\n",
    "#Création d'une variable fréquence 'f'\n",
    "customers_freq['f'] = customers_freq['session_id'] / sum(customers_freq['session_id'])\n",
    "customers_freq.sort_values(by='age', ascending=False).head(10)"
   ]
  },
  {
   "cell_type": "code",
   "execution_count": 98,
   "id": "571a5426",
   "metadata": {
    "slideshow": {
     "slide_type": "fragment"
    }
   },
   "outputs": [
    {
     "data": {
      "image/png": "[encoded data removed]",
      "text/plain": [
       "<Figure size 1008x504 with 1 Axes>"
      ]
     },
     "metadata": {},
     "output_type": "display_data"
    }
   ],
   "source": [
    "plt.plot(customers_freq[customers_freq.f < .05].age, customers_freq[customers_freq.f < .05].f, 'o')\n",
    "plt.xlabel('age')\n",
    "plt.ylabel('Fréquence achat')\n",
    "plt.title('Fréquence des achats selon l\\'age du client')\n",
    "\n",
    "plt.savefig(\"graphic/scatterplot_frequence_achat_age_client.png\")\n",
    "plt.show()"
   ]
  },
  {
   "cell_type": "code",
   "execution_count": 99,
   "id": "19091e6f",
   "metadata": {
    "slideshow": {
     "slide_type": "subslide"
    }
   },
   "outputs": [
    {
     "data": {
      "text/plain": [
       "-0.5352294934719815"
      ]
     },
     "execution_count": 99,
     "metadata": {},
     "output_type": "execute_result"
    }
   ],
   "source": [
    "#Coefficient de corrélation linéaire de Pearson\n",
    "coef_customers_freq = st.pearsonr(customers_freq.age, customers_freq.f)[0]\n",
    "coef_customers_freq"
   ]
  },
  {
   "cell_type": "markdown",
   "id": "f473c761",
   "metadata": {
    "slideshow": {
     "slide_type": "fragment"
    }
   },
   "source": [
    "*Corrélation confirmée par le coefficient de Pearson, il existe bien un lien entre l'âge des clients et leurs fréquences d'achat. Il semblerait que des groupes de clients se formalisent sur cette corrélation, par exemple entre 18 et 30 ans.*"
   ]
  },
  {
   "cell_type": "markdown",
   "id": "3adc987b",
   "metadata": {
    "slideshow": {
     "slide_type": "slide"
    }
   },
   "source": [
    "## Analyse de la corrélation entre l'âge clients et la taille du panier moyen \n",
    "Ici la taille du panier moyen sera exprimée en nombre d'articles"
   ]
  },
  {
   "cell_type": "code",
   "execution_count": 100,
   "id": "dc4059d9",
   "metadata": {
    "slideshow": {
     "slide_type": "skip"
    }
   },
   "outputs": [
    {
     "data": {
      "text/html": [
       "<div>\n",
       "<style scoped>\n",
       "    .dataframe tbody tr th:only-of-type {\n",
       "        vertical-align: middle;\n",
       "    }\n",
       "\n",
       "    .dataframe tbody tr th {\n",
       "        vertical-align: top;\n",
       "    }\n",
       "\n",
       "    .dataframe thead th {\n",
       "        text-align: right;\n",
       "    }\n",
       "</style>\n",
       "<table border=\"1\" class=\"dataframe\">\n",
       "  <thead>\n",
       "    <tr style=\"text-align: right;\">\n",
       "      <th></th>\n",
       "      <th>client_id</th>\n",
       "      <th>sex</th>\n",
       "      <th>birth</th>\n",
       "      <th>id_prod</th>\n",
       "      <th>date</th>\n",
       "      <th>session_id</th>\n",
       "      <th>price</th>\n",
       "      <th>categ</th>\n",
       "      <th>age</th>\n",
       "    </tr>\n",
       "  </thead>\n",
       "  <tbody>\n",
       "    <tr>\n",
       "      <th>0</th>\n",
       "      <td>c_4410</td>\n",
       "      <td>f</td>\n",
       "      <td>1967</td>\n",
       "      <td>0_1316</td>\n",
       "      <td>2021-12-29 09:11:18.860592</td>\n",
       "      <td>s_141762</td>\n",
       "      <td>7.20</td>\n",
       "      <td>0.0</td>\n",
       "      <td>55</td>\n",
       "    </tr>\n",
       "    <tr>\n",
       "      <th>1</th>\n",
       "      <td>c_4410</td>\n",
       "      <td>f</td>\n",
       "      <td>1967</td>\n",
       "      <td>1_385</td>\n",
       "      <td>2021-03-22 01:40:22.782925</td>\n",
       "      <td>s_9707</td>\n",
       "      <td>25.99</td>\n",
       "      <td>1.0</td>\n",
       "      <td>55</td>\n",
       "    </tr>\n",
       "    <tr>\n",
       "      <th>2</th>\n",
       "      <td>c_4410</td>\n",
       "      <td>f</td>\n",
       "      <td>1967</td>\n",
       "      <td>1_190</td>\n",
       "      <td>2021-11-12 18:11:43.280574</td>\n",
       "      <td>s_118628</td>\n",
       "      <td>14.53</td>\n",
       "      <td>1.0</td>\n",
       "      <td>55</td>\n",
       "    </tr>\n",
       "    <tr>\n",
       "      <th>3</th>\n",
       "      <td>c_4410</td>\n",
       "      <td>f</td>\n",
       "      <td>1967</td>\n",
       "      <td>0_1455</td>\n",
       "      <td>2021-03-22 14:29:25.189266</td>\n",
       "      <td>s_9942</td>\n",
       "      <td>8.99</td>\n",
       "      <td>0.0</td>\n",
       "      <td>55</td>\n",
       "    </tr>\n",
       "    <tr>\n",
       "      <th>4</th>\n",
       "      <td>c_4410</td>\n",
       "      <td>f</td>\n",
       "      <td>1967</td>\n",
       "      <td>1_483</td>\n",
       "      <td>2022-03-13 21:35:55.949042</td>\n",
       "      <td>s_178686</td>\n",
       "      <td>15.99</td>\n",
       "      <td>1.0</td>\n",
       "      <td>55</td>\n",
       "    </tr>\n",
       "  </tbody>\n",
       "</table>\n",
       "</div>"
      ],
      "text/plain": [
       "  client_id sex  birth id_prod                       date session_id  price  \\\n",
       "0    c_4410   f   1967  0_1316 2021-12-29 09:11:18.860592   s_141762   7.20   \n",
       "1    c_4410   f   1967   1_385 2021-03-22 01:40:22.782925     s_9707  25.99   \n",
       "2    c_4410   f   1967   1_190 2021-11-12 18:11:43.280574   s_118628  14.53   \n",
       "3    c_4410   f   1967  0_1455 2021-03-22 14:29:25.189266     s_9942   8.99   \n",
       "4    c_4410   f   1967   1_483 2022-03-13 21:35:55.949042   s_178686  15.99   \n",
       "\n",
       "   categ  age  \n",
       "0    0.0   55  \n",
       "1    1.0   55  \n",
       "2    1.0   55  \n",
       "3    0.0   55  \n",
       "4    1.0   55  "
      ]
     },
     "execution_count": 100,
     "metadata": {},
     "output_type": "execute_result"
    }
   ],
   "source": [
    "#Analyse faite à partir du dataframe global df\n",
    "df.head()"
   ]
  },
  {
   "cell_type": "code",
   "execution_count": 101,
   "id": "6438df46",
   "metadata": {
    "slideshow": {
     "slide_type": "skip"
    }
   },
   "outputs": [
    {
     "data": {
      "text/html": [
       "<div>\n",
       "<style scoped>\n",
       "    .dataframe tbody tr th:only-of-type {\n",
       "        vertical-align: middle;\n",
       "    }\n",
       "\n",
       "    .dataframe tbody tr th {\n",
       "        vertical-align: top;\n",
       "    }\n",
       "\n",
       "    .dataframe thead th {\n",
       "        text-align: right;\n",
       "    }\n",
       "</style>\n",
       "<table border=\"1\" class=\"dataframe\">\n",
       "  <thead>\n",
       "    <tr style=\"text-align: right;\">\n",
       "      <th></th>\n",
       "      <th>age</th>\n",
       "      <th>id_prod</th>\n",
       "    </tr>\n",
       "  </thead>\n",
       "  <tbody>\n",
       "    <tr>\n",
       "      <th>71</th>\n",
       "      <td>89</td>\n",
       "      <td>1.408072</td>\n",
       "    </tr>\n",
       "    <tr>\n",
       "      <th>72</th>\n",
       "      <td>90</td>\n",
       "      <td>1.494898</td>\n",
       "    </tr>\n",
       "    <tr>\n",
       "      <th>73</th>\n",
       "      <td>91</td>\n",
       "      <td>1.802198</td>\n",
       "    </tr>\n",
       "    <tr>\n",
       "      <th>74</th>\n",
       "      <td>92</td>\n",
       "      <td>1.552448</td>\n",
       "    </tr>\n",
       "    <tr>\n",
       "      <th>75</th>\n",
       "      <td>93</td>\n",
       "      <td>1.507576</td>\n",
       "    </tr>\n",
       "  </tbody>\n",
       "</table>\n",
       "</div>"
      ],
      "text/plain": [
       "    age   id_prod\n",
       "71   89  1.408072\n",
       "72   90  1.494898\n",
       "73   91  1.802198\n",
       "74   92  1.552448\n",
       "75   93  1.507576"
      ]
     },
     "execution_count": 101,
     "metadata": {},
     "output_type": "execute_result"
    }
   ],
   "source": [
    "#Première agrégation selon l'age client et les sessions en comptage de modalités\n",
    "customers_shop = df.groupby(['age', 'session_id']).count().reset_index()\n",
    "\n",
    "#Seconde agrégation selon l'age client en moyenne de produits achetés \n",
    "customers_shop = customers_shop.groupby('age').mean().reset_index()\n",
    "customers_shop = customers_shop[['age', 'id_prod']]\n",
    "customers_shop.tail()"
   ]
  },
  {
   "cell_type": "code",
   "execution_count": 102,
   "id": "d81f116d",
   "metadata": {
    "slideshow": {
     "slide_type": "skip"
    }
   },
   "outputs": [
    {
     "data": {
      "image/png": "[encoded data removed]",
      "text/plain": [
       "<Figure size 1008x504 with 1 Axes>"
      ]
     },
     "metadata": {},
     "output_type": "display_data"
    }
   ],
   "source": [
    "#Visualisation avec un scatterplot (âge client vs taille panier moyen)\n",
    "plt.plot(customers_shop.age, customers_shop.id_prod, 'o', color='purple')\n",
    "plt.xlabel('age')\n",
    "plt.ylabel('Panier moyen (Nbe de produits)')\n",
    "plt.title('Panier moyen en nombre de produits selon l\\'age client')\n",
    "plt.savefig(\"graphic/scatterplot_panier_moyen_age_client.png\")\n",
    "plt.show()"
   ]
  },
  {
   "cell_type": "code",
   "execution_count": 103,
   "id": "a67f39c0",
   "metadata": {
    "slideshow": {
     "slide_type": "skip"
    }
   },
   "outputs": [],
   "source": [
    "#Subsets pour identifier les clusters clients \n",
    "customers_shop31 = customers_shop[customers_shop.age < 31]\n",
    "customers_shop3050 = customers_shop[(customers_shop.age > 31) & (customers_shop.age < 50)]\n",
    "customers_shop50 = customers_shop[customers_shop.age > 51]"
   ]
  },
  {
   "cell_type": "code",
   "execution_count": 104,
   "id": "301ff2e9",
   "metadata": {
    "slideshow": {
     "slide_type": "subslide"
    }
   },
   "outputs": [
    {
     "data": {
      "image/png": "[encoded data removed]",
      "text/plain": [
       "<Figure size 1008x504 with 1 Axes>"
      ]
     },
     "metadata": {},
     "output_type": "display_data"
    }
   ],
   "source": [
    "#Visualisation avec scatterplot selon les groupes d'individus identifiés\n",
    "plt.plot(customers_shop31.age, customers_shop31.id_prod, 'o', color='green')\n",
    "plt.plot(customers_shop3050.age, customers_shop3050.id_prod, 'o', color='blue')\n",
    "plt.plot(customers_shop50.age, customers_shop50.id_prod, 'o', color='purple')\n",
    "\n",
    "plt.xlabel('age')\n",
    "plt.ylabel('Panier moyen (Nbe de produits)')\n",
    "plt.title('Panier moyen en nombre de produits selon l\\'age client')\n",
    "\n",
    "plt.savefig(\"graphic/scatterplot_panier_moyen_age_client_clusters.png\")\n",
    "plt.show()"
   ]
  },
  {
   "cell_type": "code",
   "execution_count": 105,
   "id": "53a42d24",
   "metadata": {
    "slideshow": {
     "slide_type": "subslide"
    }
   },
   "outputs": [
    {
     "data": {
      "text/plain": [
       "(-0.5716348608385913, 6.914943289135856e-08)"
      ]
     },
     "execution_count": 105,
     "metadata": {},
     "output_type": "execute_result"
    }
   ],
   "source": [
    "#Coefficient de corrélation linéaire de Pearson\n",
    "coef_customers_shop = st.pearsonr(customers_shop.age, customers_shop.id_prod)\n",
    "coef_customers_shop "
   ]
  },
  {
   "cell_type": "markdown",
   "id": "9a71b2e0",
   "metadata": {
    "slideshow": {
     "slide_type": "fragment"
    }
   },
   "source": [
    "*Le test de corrélation démontre un certain lien entre l'âge du client et le panier moyen. Par exemple, sur les individus de plus de 50 ans, le panier moyen reste faible. Il existe également un lien sur les individus de 18 à 30 ans et de 30 à 50 ans. La linéarité de la corrélation existe mais selon des corpus de clients visiblement distincts, par tranches d'âges.*"
   ]
  },
  {
   "cell_type": "markdown",
   "id": "cb5e0a0d",
   "metadata": {
    "slideshow": {
     "slide_type": "slide"
    }
   },
   "source": [
    "## Analyse de la corrélation entre l'âge clients et la catégorie produits"
   ]
  },
  {
   "cell_type": "markdown",
   "id": "ba6bf31d",
   "metadata": {
    "slideshow": {
     "slide_type": "fragment"
    }
   },
   "source": [
    "Afin de simplifier l'analyse, il est nécessaire de procéder par un découpage en classes (discrétisation). Donc très clairement le but est de pouvoir réduire nos individus \"âges\" par classes, de manière à pouvoir interpréter plus facilement les résultats.\n",
    "\n",
    "**Comment choisir le nombre de classes?**\n",
    "\n",
    "Avec par exemple la formule de Sturges-Huntsberger : k = 1 + 3.33*log(N,base=10)\n",
    "\n",
    "ou encore Brooks-Carruthers : k = 5*log(N,base=10)"
   ]
  },
  {
   "cell_type": "code",
   "execution_count": 106,
   "id": "ec13170b",
   "metadata": {
    "slideshow": {
     "slide_type": "skip"
    }
   },
   "outputs": [
    {
     "data": {
      "text/plain": [
       "228"
      ]
     },
     "execution_count": 106,
     "metadata": {},
     "output_type": "execute_result"
    }
   ],
   "source": [
    "#N est le nombre d'observations, ici représentées par les valeurs transactionnelles par âge et par catégorie\n",
    "len(df.groupby(['age', 'categ']).count().reset_index())"
   ]
  },
  {
   "cell_type": "code",
   "execution_count": 107,
   "id": "3b88b1b0",
   "metadata": {
    "slideshow": {
     "slide_type": "fragment"
    }
   },
   "outputs": [
    {
     "data": {
      "text/plain": [
       "9.0"
      ]
     },
     "execution_count": 107,
     "metadata": {},
     "output_type": "execute_result"
    }
   ],
   "source": [
    "#Formule de Huntsberger : 1 + 3,3*log10(N)\n",
    "round((1 + ((10/3) * mth.log10(228))),0)"
   ]
  },
  {
   "cell_type": "code",
   "execution_count": 108,
   "id": "8494cfa8",
   "metadata": {
    "slideshow": {
     "slide_type": "fragment"
    }
   },
   "outputs": [
    {
     "data": {
      "text/plain": [
       "12.0"
      ]
     },
     "execution_count": 108,
     "metadata": {},
     "output_type": "execute_result"
    }
   ],
   "source": [
    "#Formule de Brooks-Carruthers : 5*log10(N)\n",
    "round((5 * mth.log10(228)),0)"
   ]
  },
  {
   "cell_type": "markdown",
   "id": "d23d4283",
   "metadata": {
    "slideshow": {
     "slide_type": "fragment"
    }
   },
   "source": [
    "Dans notre contexte, nous pouvons retenir un nombre de classes de 9."
   ]
  },
  {
   "cell_type": "code",
   "execution_count": 109,
   "id": "6be3f7f8",
   "metadata": {
    "slideshow": {
     "slide_type": "skip"
    }
   },
   "outputs": [
    {
     "data": {
      "text/html": [
       "<div>\n",
       "<style scoped>\n",
       "    .dataframe tbody tr th:only-of-type {\n",
       "        vertical-align: middle;\n",
       "    }\n",
       "\n",
       "    .dataframe tbody tr th {\n",
       "        vertical-align: top;\n",
       "    }\n",
       "\n",
       "    .dataframe thead th {\n",
       "        text-align: right;\n",
       "    }\n",
       "</style>\n",
       "<table border=\"1\" class=\"dataframe\">\n",
       "  <thead>\n",
       "    <tr style=\"text-align: right;\">\n",
       "      <th></th>\n",
       "      <th>age</th>\n",
       "      <th>categ</th>\n",
       "      <th>session_id</th>\n",
       "    </tr>\n",
       "  </thead>\n",
       "  <tbody>\n",
       "    <tr>\n",
       "      <th>0</th>\n",
       "      <td>18</td>\n",
       "      <td>0.0</td>\n",
       "      <td>3276</td>\n",
       "    </tr>\n",
       "    <tr>\n",
       "      <th>1</th>\n",
       "      <td>18</td>\n",
       "      <td>1.0</td>\n",
       "      <td>5661</td>\n",
       "    </tr>\n",
       "    <tr>\n",
       "      <th>2</th>\n",
       "      <td>18</td>\n",
       "      <td>2.0</td>\n",
       "      <td>5813</td>\n",
       "    </tr>\n",
       "    <tr>\n",
       "      <th>3</th>\n",
       "      <td>19</td>\n",
       "      <td>0.0</td>\n",
       "      <td>850</td>\n",
       "    </tr>\n",
       "    <tr>\n",
       "      <th>4</th>\n",
       "      <td>19</td>\n",
       "      <td>1.0</td>\n",
       "      <td>1661</td>\n",
       "    </tr>\n",
       "  </tbody>\n",
       "</table>\n",
       "</div>"
      ],
      "text/plain": [
       "   age  categ  session_id\n",
       "0   18    0.0        3276\n",
       "1   18    1.0        5661\n",
       "2   18    2.0        5813\n",
       "3   19    0.0         850\n",
       "4   19    1.0        1661"
      ]
     },
     "execution_count": 109,
     "metadata": {},
     "output_type": "execute_result"
    }
   ],
   "source": [
    "#Méthode .groupby() pour agréger les données selon l'âge et la catégorie\n",
    "age_categ = df.groupby(['age', 'categ']).count().reset_index()\n",
    "age_categ = age_categ[['age', 'categ', 'session_id']]\n",
    "age_categ.head()"
   ]
  },
  {
   "cell_type": "code",
   "execution_count": 110,
   "id": "89729e00",
   "metadata": {
    "slideshow": {
     "slide_type": "skip"
    }
   },
   "outputs": [
    {
     "data": {
      "text/html": [
       "<div>\n",
       "<style scoped>\n",
       "    .dataframe tbody tr th:only-of-type {\n",
       "        vertical-align: middle;\n",
       "    }\n",
       "\n",
       "    .dataframe tbody tr th {\n",
       "        vertical-align: top;\n",
       "    }\n",
       "\n",
       "    .dataframe thead th {\n",
       "        text-align: right;\n",
       "    }\n",
       "</style>\n",
       "<table border=\"1\" class=\"dataframe\">\n",
       "  <thead>\n",
       "    <tr style=\"text-align: right;\">\n",
       "      <th></th>\n",
       "      <th>age</th>\n",
       "      <th>categ</th>\n",
       "      <th>session_id</th>\n",
       "    </tr>\n",
       "  </thead>\n",
       "  <tbody>\n",
       "    <tr>\n",
       "      <th>0</th>\n",
       "      <td>(17.925, 26.333]</td>\n",
       "      <td>0.0</td>\n",
       "      <td>11466</td>\n",
       "    </tr>\n",
       "    <tr>\n",
       "      <th>1</th>\n",
       "      <td>(17.925, 26.333]</td>\n",
       "      <td>1.0</td>\n",
       "      <td>21710</td>\n",
       "    </tr>\n",
       "    <tr>\n",
       "      <th>2</th>\n",
       "      <td>(17.925, 26.333]</td>\n",
       "      <td>2.0</td>\n",
       "      <td>23882</td>\n",
       "    </tr>\n",
       "    <tr>\n",
       "      <th>3</th>\n",
       "      <td>(26.333, 34.667]</td>\n",
       "      <td>0.0</td>\n",
       "      <td>59913</td>\n",
       "    </tr>\n",
       "    <tr>\n",
       "      <th>4</th>\n",
       "      <td>(26.333, 34.667]</td>\n",
       "      <td>1.0</td>\n",
       "      <td>25362</td>\n",
       "    </tr>\n",
       "    <tr>\n",
       "      <th>5</th>\n",
       "      <td>(26.333, 34.667]</td>\n",
       "      <td>2.0</td>\n",
       "      <td>8538</td>\n",
       "    </tr>\n",
       "    <tr>\n",
       "      <th>6</th>\n",
       "      <td>(34.667, 43.0]</td>\n",
       "      <td>0.0</td>\n",
       "      <td>153091</td>\n",
       "    </tr>\n",
       "    <tr>\n",
       "      <th>7</th>\n",
       "      <td>(34.667, 43.0]</td>\n",
       "      <td>1.0</td>\n",
       "      <td>48917</td>\n",
       "    </tr>\n",
       "    <tr>\n",
       "      <th>8</th>\n",
       "      <td>(34.667, 43.0]</td>\n",
       "      <td>2.0</td>\n",
       "      <td>690</td>\n",
       "    </tr>\n",
       "    <tr>\n",
       "      <th>9</th>\n",
       "      <td>(43.0, 51.333]</td>\n",
       "      <td>0.0</td>\n",
       "      <td>99529</td>\n",
       "    </tr>\n",
       "  </tbody>\n",
       "</table>\n",
       "</div>"
      ],
      "text/plain": [
       "                age  categ  session_id\n",
       "0  (17.925, 26.333]    0.0       11466\n",
       "1  (17.925, 26.333]    1.0       21710\n",
       "2  (17.925, 26.333]    2.0       23882\n",
       "3  (26.333, 34.667]    0.0       59913\n",
       "4  (26.333, 34.667]    1.0       25362\n",
       "5  (26.333, 34.667]    2.0        8538\n",
       "6    (34.667, 43.0]    0.0      153091\n",
       "7    (34.667, 43.0]    1.0       48917\n",
       "8    (34.667, 43.0]    2.0         690\n",
       "9    (43.0, 51.333]    0.0       99529"
      ]
     },
     "execution_count": 110,
     "metadata": {},
     "output_type": "execute_result"
    }
   ],
   "source": [
    "#Méthode .cut() pour créer les 9 groupes d'âges, une segmentation des individus 'age'\n",
    "age_categ['age']= pd.cut(age_categ['age'], 9)\n",
    "age_categ = age_categ.groupby(['age','categ']).sum().reset_index()\n",
    "age_categ.head(10)"
   ]
  },
  {
   "cell_type": "code",
   "execution_count": 111,
   "id": "7b5185f4",
   "metadata": {
    "scrolled": false,
    "slideshow": {
     "slide_type": "slide"
    }
   },
   "outputs": [
    {
     "data": {
      "image/png": "[encoded data removed]",
      "text/plain": [
       "<Figure size 1584x864 with 1 Axes>"
      ]
     },
     "metadata": {},
     "output_type": "display_data"
    }
   ],
   "source": [
    "#Visualisation rapide avec une BarPlot Seaborn\n",
    "fig, ax = plt.subplots(figsize=(22, 12))\n",
    "sns.barplot(x=\"age\", y=\"session_id\",hue=\"categ\", data=age_categ)\n",
    "ax.set_xlabel('age')\n",
    "ax.set_ylabel('Nombre de produits vendus')\n",
    "ax.set_title('Catégories produits selon l\\'âge client')\n",
    "plt.savefig(\"graphic/barplot_categorie_produit_age_client\")\n",
    "plt.show()"
   ]
  },
  {
   "cell_type": "code",
   "execution_count": 112,
   "id": "eee8d6b4",
   "metadata": {
    "slideshow": {
     "slide_type": "slide"
    }
   },
   "outputs": [],
   "source": [
    "#Coefficient de corrélation eta au carré\n",
    "X = \"categ\" #qualitative\n",
    "Y = \"age\" #quantitative\n",
    "\n",
    "def eta_squared(x,y):\n",
    "    moyenne_y = y.mean()\n",
    "    classes = []\n",
    "    for classe in x.unique():\n",
    "        yi_classe = y[x==classe]\n",
    "        classes.append({'ni': len(yi_classe),\n",
    "                        'moyenne_classe': yi_classe.mean()})\n",
    "    SCT = sum([(yj-moyenne_y)**2 for yj in y])\n",
    "    SCE = sum([c['ni']*(c['moyenne_classe']-moyenne_y)**2 for c in classes])\n",
    "    return SCE/SCT"
   ]
  },
  {
   "cell_type": "markdown",
   "id": "a9d524ae",
   "metadata": {
    "slideshow": {
     "slide_type": "fragment"
    }
   },
   "source": [
    "Cette fonction calcule le rapport de corrélation η^2 (eta-carré) qui est une mesure d'association importante entre une variable quantitative et une variable qualitative."
   ]
  },
  {
   "cell_type": "code",
   "execution_count": 113,
   "id": "eb723cb3",
   "metadata": {
    "slideshow": {
     "slide_type": "fragment"
    }
   },
   "outputs": [
    {
     "data": {
      "text/plain": [
       "0.35"
      ]
     },
     "execution_count": 113,
     "metadata": {},
     "output_type": "execute_result"
    }
   ],
   "source": [
    "round(eta_squared(age_categ.age, age_categ.session_id), 2)"
   ]
  },
  {
   "cell_type": "markdown",
   "id": "74e87bd3",
   "metadata": {
    "slideshow": {
     "slide_type": "fragment"
    }
   },
   "source": [
    "Le rapport de corrélation est proche de 0.40, ce qui précise le précédent graphique dans lequel une certaine corrélation entre les catégories et l'âge client. Il est perceptible de voir le lien que peut avoir une catégorie en fonction d'une tranche d'âges, avec par exemple un fort succès de la catégorie 0 pour les 34 / 44 ans, ou à l'inverse une clientèle plus âgée n'adhère quasiment pas à cette catégorie, etc.."
   ]
  },
  {
   "cell_type": "markdown",
   "id": "8bf7ff76",
   "metadata": {
    "slideshow": {
     "slide_type": "slide"
    }
   },
   "source": [
    "**En conclusion**\n",
    "\n",
    "L'analyse exploratoire faite à partir de ces 3 sources de données permettent d'avoir une première approche unidimensionnelle, à savoir la ressemblance entre individus, la variabilité des données, etc. Puis dans un second temps une approche multidimensionnelle permettant d'identifier les différentes corrélations, les liens possibles entre nos variables.\n",
    "\n",
    "La catégorie 2 ressort moins populaire que les deux autres, moins de quantités vendues, moins de chiffre d'affaires, mais un panier moyen qui reste beaucoup plus élevé\n",
    "\n",
    "Il serait interessant de pousser l'analyse sur d'autres aspects business comme celui de l'acquisition du prospect, l'origine de la transaction client, avec par exemple une question : canal internet (si oui dans quel localité se trouve le client?) ou magasin physique (si oui lequel?)."
   ]
  }
 ],
 "metadata": {
  "celltoolbar": "Diaporama",
  "kernelspec": {
   "display_name": "Python 3 (ipykernel)",
   "language": "python",
   "name": "python3"
  },
  "language_info": {
   "codemirror_mode": {
    "name": "ipython",
    "version": 3
   },
   "file_extension": ".py",
   "mimetype": "text/x-python",
   "name": "python",
   "nbconvert_exporter": "python",
   "pygments_lexer": "ipython3",
   "version": "3.9.7"
  },
  "toc": {
   "base_numbering": 1,
   "nav_menu": {},
   "number_sections": true,
   "sideBar": true,
   "skip_h1_title": false,
   "title_cell": "Table of Contents",
   "title_sidebar": "Contents",
   "toc_cell": false,
   "toc_position": {},
   "toc_section_display": true,
   "toc_window_display": false
  }
 },
 "nbformat": 4,
 "nbformat_minor": 5
}
